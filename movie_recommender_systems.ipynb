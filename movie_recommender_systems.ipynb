{
  "cells": [
    {
      "cell_type": "markdown",
      "metadata": {
        "id": "view-in-github",
        "colab_type": "text"
      },
      "source": [
        "<a href=\"https://colab.research.google.com/github/mradi8101/Movieflix/blob/main/movie_recommender_systems.ipynb\" target=\"_parent\"><img src=\"https://colab.research.google.com/assets/colab-badge.svg\" alt=\"Open In Colab\"/></a>"
      ]
    },
    {
      "cell_type": "markdown",
      "metadata": {
        "_cell_guid": "da447453-96e3-48fe-93cd-b9195433add6",
        "_uuid": "b63091dc0b9d04f19ab8861754a83b79c1789e96",
        "id": "jiCh1TsAW4uw"
      },
      "source": [
        "# Movies Recommender System"
      ]
    },
    {
      "cell_type": "code",
      "source": [
        "from google.colab import drive\n",
        "drive.mount('/content/drive')"
      ],
      "metadata": {
        "colab": {
          "base_uri": "https://localhost:8080/"
        },
        "id": "D9n43Q8tXAPt",
        "outputId": "6fee0d14-47e1-4fd6-ce64-f65b1b1c98bb"
      },
      "execution_count": 110,
      "outputs": [
        {
          "output_type": "stream",
          "name": "stdout",
          "text": [
            "Drive already mounted at /content/drive; to attempt to forcibly remount, call drive.mount(\"/content/drive\", force_remount=True).\n"
          ]
        }
      ]
    },
    {
      "cell_type": "markdown",
      "metadata": {
        "_cell_guid": "5ec09319-a139-488b-b9fa-51780fd771dc",
        "_uuid": "93799938d163a5c4d6097e04fc566c04a1237718",
        "id": "_g_77dpXW4uz"
      },
      "source": [
        "![](http://labs.criteo.com/wp-content/uploads/2017/08/CustomersWhoBought3.jpg)"
      ]
    },
    {
      "cell_type": "markdown",
      "metadata": {
        "_cell_guid": "351091d0-4223-4510-b737-3d109883c4bf",
        "_uuid": "c9e02ccf7a6f04280a8a949fe82cc3c12f8a769f",
        "id": "sZDowXIyW4u0"
      },
      "source": [
        "I will be  implementing a few recommendation algorithms (content based, popularity based) and try to build  final recommendation system.\n",
        "\n",
        "With us, we have two MovieLens datasets.\n",
        "* **The Full Dataset:** Consists of 26,000,000 ratings and 750,000 tag applications applied to 45,000 movies by 270,000 users. Includes tag genome data with 12 million relevance scores across 1,100 tags.\n",
        "* **The Small Dataset:** Comprises of 100,000 ratings and 1,300 tag applications applied to 9,000 movies by 700 users.\n",
        "\n",
        "Firstly I will build a Simple Recommender using movies from the *Full Dataset* \n",
        "Then I will implement The Content Based recommender systems will make use of the small dataset (due to the computing power I possess being very limited)."
      ]
    },
    {
      "cell_type": "code",
      "execution_count": 111,
      "metadata": {
        "_cell_guid": "78fea705-f9ad-4a81-aafd-8b7b624110d1",
        "_uuid": "1c291fe3725c706e0003f01f0102abb9709f25fc",
        "id": "u9Olmq1XW4u3"
      },
      "outputs": [],
      "source": [
        "%matplotlib inline\n",
        "import pandas as pd\n",
        "import numpy as np\n",
        "import matplotlib.pyplot as plt\n",
        "import seaborn as sns\n",
        "from scipy import stats\n",
        "from ast import literal_eval\n",
        "from sklearn.feature_extraction.text import TfidfVectorizer, CountVectorizer\n",
        "from sklearn.metrics.pairwise import linear_kernel, cosine_similarity\n",
        "from nltk.stem.snowball import SnowballStemmer\n",
        "from nltk.stem.wordnet import WordNetLemmatizer\n",
        "from nltk.corpus import wordnet\n",
        "import warnings; warnings.simplefilter('ignore')"
      ]
    },
    {
      "cell_type": "markdown",
      "metadata": {
        "_cell_guid": "f130bae8-1bb0-415d-9a39-557fe180b490",
        "_uuid": "49131e65f312719487848f6ef42488041a44028e",
        "id": "NytYE7qgW4u5"
      },
      "source": [
        "## Simple Recommender\n",
        "\n",
        "The Simple Recommender offers generalized recommendations to every user based on movie popularity and (sometimes) genre. The basic idea behind this recommender is that movies that are more popular and more critically acclaimed will have a higher probability of being liked by the average audience. This model does not give personalized recommendations based on the user. "
      ]
    },
    {
      "cell_type": "code",
      "execution_count": 112,
      "metadata": {
        "_cell_guid": "0356d2a0-d8b2-4234-af78-bd51eaa3a390",
        "_uuid": "e0d62612bc9b9e9561afdc48fd1e75a9b0c82337",
        "colab": {
          "base_uri": "https://localhost:8080/",
          "height": 751
        },
        "id": "wLpNUfcrW4u6",
        "outputId": "877bff5f-ca88-40ec-cd3c-9ac70b2a871c"
      },
      "outputs": [
        {
          "output_type": "execute_result",
          "data": {
            "text/plain": [
              "   adult                              belongs_to_collection    budget  \\\n",
              "0  False  {'id': 10194, 'name': 'Toy Story Collection', ...  30000000   \n",
              "1  False                                                NaN  65000000   \n",
              "2  False  {'id': 119050, 'name': 'Grumpy Old Men Collect...         0   \n",
              "3  False                                                NaN  16000000   \n",
              "4  False  {'id': 96871, 'name': 'Father of the Bride Col...         0   \n",
              "\n",
              "                                              genres  \\\n",
              "0  [{'id': 16, 'name': 'Animation'}, {'id': 35, '...   \n",
              "1  [{'id': 12, 'name': 'Adventure'}, {'id': 14, '...   \n",
              "2  [{'id': 10749, 'name': 'Romance'}, {'id': 35, ...   \n",
              "3  [{'id': 35, 'name': 'Comedy'}, {'id': 18, 'nam...   \n",
              "4                     [{'id': 35, 'name': 'Comedy'}]   \n",
              "\n",
              "                               homepage     id    imdb_id original_language  \\\n",
              "0  http://toystory.disney.com/toy-story    862  tt0114709                en   \n",
              "1                                   NaN   8844  tt0113497                en   \n",
              "2                                   NaN  15602  tt0113228                en   \n",
              "3                                   NaN  31357  tt0114885                en   \n",
              "4                                   NaN  11862  tt0113041                en   \n",
              "\n",
              "                original_title  \\\n",
              "0                    Toy Story   \n",
              "1                      Jumanji   \n",
              "2             Grumpier Old Men   \n",
              "3            Waiting to Exhale   \n",
              "4  Father of the Bride Part II   \n",
              "\n",
              "                                            overview  ... release_date  \\\n",
              "0  Led by Woody, Andy's toys live happily in his ...  ...   1995-10-30   \n",
              "1  When siblings Judy and Peter discover an encha...  ...   1995-12-15   \n",
              "2  A family wedding reignites the ancient feud be...  ...   1995-12-22   \n",
              "3  Cheated on, mistreated and stepped on, the wom...  ...   1995-12-22   \n",
              "4  Just when George Banks has recovered from his ...  ...   1995-02-10   \n",
              "\n",
              "       revenue runtime                                   spoken_languages  \\\n",
              "0  373554033.0    81.0           [{'iso_639_1': 'en', 'name': 'English'}]   \n",
              "1  262797249.0   104.0  [{'iso_639_1': 'en', 'name': 'English'}, {'iso...   \n",
              "2          0.0   101.0           [{'iso_639_1': 'en', 'name': 'English'}]   \n",
              "3   81452156.0   127.0           [{'iso_639_1': 'en', 'name': 'English'}]   \n",
              "4   76578911.0   106.0           [{'iso_639_1': 'en', 'name': 'English'}]   \n",
              "\n",
              "     status                                            tagline  \\\n",
              "0  Released                                                NaN   \n",
              "1  Released          Roll the dice and unleash the excitement!   \n",
              "2  Released  Still Yelling. Still Fighting. Still Ready for...   \n",
              "3  Released  Friends are the people who let you be yourself...   \n",
              "4  Released  Just When His World Is Back To Normal... He's ...   \n",
              "\n",
              "                         title  video vote_average vote_count  \n",
              "0                    Toy Story  False          7.7     5415.0  \n",
              "1                      Jumanji  False          6.9     2413.0  \n",
              "2             Grumpier Old Men  False          6.5       92.0  \n",
              "3            Waiting to Exhale  False          6.1       34.0  \n",
              "4  Father of the Bride Part II  False          5.7      173.0  \n",
              "\n",
              "[5 rows x 24 columns]"
            ],
            "text/html": [
              "\n",
              "  <div id=\"df-2e2f280a-82bd-4baf-af09-3ea0cc38c3e2\">\n",
              "    <div class=\"colab-df-container\">\n",
              "      <div>\n",
              "<style scoped>\n",
              "    .dataframe tbody tr th:only-of-type {\n",
              "        vertical-align: middle;\n",
              "    }\n",
              "\n",
              "    .dataframe tbody tr th {\n",
              "        vertical-align: top;\n",
              "    }\n",
              "\n",
              "    .dataframe thead th {\n",
              "        text-align: right;\n",
              "    }\n",
              "</style>\n",
              "<table border=\"1\" class=\"dataframe\">\n",
              "  <thead>\n",
              "    <tr style=\"text-align: right;\">\n",
              "      <th></th>\n",
              "      <th>adult</th>\n",
              "      <th>belongs_to_collection</th>\n",
              "      <th>budget</th>\n",
              "      <th>genres</th>\n",
              "      <th>homepage</th>\n",
              "      <th>id</th>\n",
              "      <th>imdb_id</th>\n",
              "      <th>original_language</th>\n",
              "      <th>original_title</th>\n",
              "      <th>overview</th>\n",
              "      <th>...</th>\n",
              "      <th>release_date</th>\n",
              "      <th>revenue</th>\n",
              "      <th>runtime</th>\n",
              "      <th>spoken_languages</th>\n",
              "      <th>status</th>\n",
              "      <th>tagline</th>\n",
              "      <th>title</th>\n",
              "      <th>video</th>\n",
              "      <th>vote_average</th>\n",
              "      <th>vote_count</th>\n",
              "    </tr>\n",
              "  </thead>\n",
              "  <tbody>\n",
              "    <tr>\n",
              "      <th>0</th>\n",
              "      <td>False</td>\n",
              "      <td>{'id': 10194, 'name': 'Toy Story Collection', ...</td>\n",
              "      <td>30000000</td>\n",
              "      <td>[{'id': 16, 'name': 'Animation'}, {'id': 35, '...</td>\n",
              "      <td>http://toystory.disney.com/toy-story</td>\n",
              "      <td>862</td>\n",
              "      <td>tt0114709</td>\n",
              "      <td>en</td>\n",
              "      <td>Toy Story</td>\n",
              "      <td>Led by Woody, Andy's toys live happily in his ...</td>\n",
              "      <td>...</td>\n",
              "      <td>1995-10-30</td>\n",
              "      <td>373554033.0</td>\n",
              "      <td>81.0</td>\n",
              "      <td>[{'iso_639_1': 'en', 'name': 'English'}]</td>\n",
              "      <td>Released</td>\n",
              "      <td>NaN</td>\n",
              "      <td>Toy Story</td>\n",
              "      <td>False</td>\n",
              "      <td>7.7</td>\n",
              "      <td>5415.0</td>\n",
              "    </tr>\n",
              "    <tr>\n",
              "      <th>1</th>\n",
              "      <td>False</td>\n",
              "      <td>NaN</td>\n",
              "      <td>65000000</td>\n",
              "      <td>[{'id': 12, 'name': 'Adventure'}, {'id': 14, '...</td>\n",
              "      <td>NaN</td>\n",
              "      <td>8844</td>\n",
              "      <td>tt0113497</td>\n",
              "      <td>en</td>\n",
              "      <td>Jumanji</td>\n",
              "      <td>When siblings Judy and Peter discover an encha...</td>\n",
              "      <td>...</td>\n",
              "      <td>1995-12-15</td>\n",
              "      <td>262797249.0</td>\n",
              "      <td>104.0</td>\n",
              "      <td>[{'iso_639_1': 'en', 'name': 'English'}, {'iso...</td>\n",
              "      <td>Released</td>\n",
              "      <td>Roll the dice and unleash the excitement!</td>\n",
              "      <td>Jumanji</td>\n",
              "      <td>False</td>\n",
              "      <td>6.9</td>\n",
              "      <td>2413.0</td>\n",
              "    </tr>\n",
              "    <tr>\n",
              "      <th>2</th>\n",
              "      <td>False</td>\n",
              "      <td>{'id': 119050, 'name': 'Grumpy Old Men Collect...</td>\n",
              "      <td>0</td>\n",
              "      <td>[{'id': 10749, 'name': 'Romance'}, {'id': 35, ...</td>\n",
              "      <td>NaN</td>\n",
              "      <td>15602</td>\n",
              "      <td>tt0113228</td>\n",
              "      <td>en</td>\n",
              "      <td>Grumpier Old Men</td>\n",
              "      <td>A family wedding reignites the ancient feud be...</td>\n",
              "      <td>...</td>\n",
              "      <td>1995-12-22</td>\n",
              "      <td>0.0</td>\n",
              "      <td>101.0</td>\n",
              "      <td>[{'iso_639_1': 'en', 'name': 'English'}]</td>\n",
              "      <td>Released</td>\n",
              "      <td>Still Yelling. Still Fighting. Still Ready for...</td>\n",
              "      <td>Grumpier Old Men</td>\n",
              "      <td>False</td>\n",
              "      <td>6.5</td>\n",
              "      <td>92.0</td>\n",
              "    </tr>\n",
              "    <tr>\n",
              "      <th>3</th>\n",
              "      <td>False</td>\n",
              "      <td>NaN</td>\n",
              "      <td>16000000</td>\n",
              "      <td>[{'id': 35, 'name': 'Comedy'}, {'id': 18, 'nam...</td>\n",
              "      <td>NaN</td>\n",
              "      <td>31357</td>\n",
              "      <td>tt0114885</td>\n",
              "      <td>en</td>\n",
              "      <td>Waiting to Exhale</td>\n",
              "      <td>Cheated on, mistreated and stepped on, the wom...</td>\n",
              "      <td>...</td>\n",
              "      <td>1995-12-22</td>\n",
              "      <td>81452156.0</td>\n",
              "      <td>127.0</td>\n",
              "      <td>[{'iso_639_1': 'en', 'name': 'English'}]</td>\n",
              "      <td>Released</td>\n",
              "      <td>Friends are the people who let you be yourself...</td>\n",
              "      <td>Waiting to Exhale</td>\n",
              "      <td>False</td>\n",
              "      <td>6.1</td>\n",
              "      <td>34.0</td>\n",
              "    </tr>\n",
              "    <tr>\n",
              "      <th>4</th>\n",
              "      <td>False</td>\n",
              "      <td>{'id': 96871, 'name': 'Father of the Bride Col...</td>\n",
              "      <td>0</td>\n",
              "      <td>[{'id': 35, 'name': 'Comedy'}]</td>\n",
              "      <td>NaN</td>\n",
              "      <td>11862</td>\n",
              "      <td>tt0113041</td>\n",
              "      <td>en</td>\n",
              "      <td>Father of the Bride Part II</td>\n",
              "      <td>Just when George Banks has recovered from his ...</td>\n",
              "      <td>...</td>\n",
              "      <td>1995-02-10</td>\n",
              "      <td>76578911.0</td>\n",
              "      <td>106.0</td>\n",
              "      <td>[{'iso_639_1': 'en', 'name': 'English'}]</td>\n",
              "      <td>Released</td>\n",
              "      <td>Just When His World Is Back To Normal... He's ...</td>\n",
              "      <td>Father of the Bride Part II</td>\n",
              "      <td>False</td>\n",
              "      <td>5.7</td>\n",
              "      <td>173.0</td>\n",
              "    </tr>\n",
              "  </tbody>\n",
              "</table>\n",
              "<p>5 rows × 24 columns</p>\n",
              "</div>\n",
              "      <button class=\"colab-df-convert\" onclick=\"convertToInteractive('df-2e2f280a-82bd-4baf-af09-3ea0cc38c3e2')\"\n",
              "              title=\"Convert this dataframe to an interactive table.\"\n",
              "              style=\"display:none;\">\n",
              "        \n",
              "  <svg xmlns=\"http://www.w3.org/2000/svg\" height=\"24px\"viewBox=\"0 0 24 24\"\n",
              "       width=\"24px\">\n",
              "    <path d=\"M0 0h24v24H0V0z\" fill=\"none\"/>\n",
              "    <path d=\"M18.56 5.44l.94 2.06.94-2.06 2.06-.94-2.06-.94-.94-2.06-.94 2.06-2.06.94zm-11 1L8.5 8.5l.94-2.06 2.06-.94-2.06-.94L8.5 2.5l-.94 2.06-2.06.94zm10 10l.94 2.06.94-2.06 2.06-.94-2.06-.94-.94-2.06-.94 2.06-2.06.94z\"/><path d=\"M17.41 7.96l-1.37-1.37c-.4-.4-.92-.59-1.43-.59-.52 0-1.04.2-1.43.59L10.3 9.45l-7.72 7.72c-.78.78-.78 2.05 0 2.83L4 21.41c.39.39.9.59 1.41.59.51 0 1.02-.2 1.41-.59l7.78-7.78 2.81-2.81c.8-.78.8-2.07 0-2.86zM5.41 20L4 18.59l7.72-7.72 1.47 1.35L5.41 20z\"/>\n",
              "  </svg>\n",
              "      </button>\n",
              "      \n",
              "  <style>\n",
              "    .colab-df-container {\n",
              "      display:flex;\n",
              "      flex-wrap:wrap;\n",
              "      gap: 12px;\n",
              "    }\n",
              "\n",
              "    .colab-df-convert {\n",
              "      background-color: #E8F0FE;\n",
              "      border: none;\n",
              "      border-radius: 50%;\n",
              "      cursor: pointer;\n",
              "      display: none;\n",
              "      fill: #1967D2;\n",
              "      height: 32px;\n",
              "      padding: 0 0 0 0;\n",
              "      width: 32px;\n",
              "    }\n",
              "\n",
              "    .colab-df-convert:hover {\n",
              "      background-color: #E2EBFA;\n",
              "      box-shadow: 0px 1px 2px rgba(60, 64, 67, 0.3), 0px 1px 3px 1px rgba(60, 64, 67, 0.15);\n",
              "      fill: #174EA6;\n",
              "    }\n",
              "\n",
              "    [theme=dark] .colab-df-convert {\n",
              "      background-color: #3B4455;\n",
              "      fill: #D2E3FC;\n",
              "    }\n",
              "\n",
              "    [theme=dark] .colab-df-convert:hover {\n",
              "      background-color: #434B5C;\n",
              "      box-shadow: 0px 1px 3px 1px rgba(0, 0, 0, 0.15);\n",
              "      filter: drop-shadow(0px 1px 2px rgba(0, 0, 0, 0.3));\n",
              "      fill: #FFFFFF;\n",
              "    }\n",
              "  </style>\n",
              "\n",
              "      <script>\n",
              "        const buttonEl =\n",
              "          document.querySelector('#df-2e2f280a-82bd-4baf-af09-3ea0cc38c3e2 button.colab-df-convert');\n",
              "        buttonEl.style.display =\n",
              "          google.colab.kernel.accessAllowed ? 'block' : 'none';\n",
              "\n",
              "        async function convertToInteractive(key) {\n",
              "          const element = document.querySelector('#df-2e2f280a-82bd-4baf-af09-3ea0cc38c3e2');\n",
              "          const dataTable =\n",
              "            await google.colab.kernel.invokeFunction('convertToInteractive',\n",
              "                                                     [key], {});\n",
              "          if (!dataTable) return;\n",
              "\n",
              "          const docLinkHtml = 'Like what you see? Visit the ' +\n",
              "            '<a target=\"_blank\" href=https://colab.research.google.com/notebooks/data_table.ipynb>data table notebook</a>'\n",
              "            + ' to learn more about interactive tables.';\n",
              "          element.innerHTML = '';\n",
              "          dataTable['output_type'] = 'display_data';\n",
              "          await google.colab.output.renderOutput(dataTable, element);\n",
              "          const docLink = document.createElement('div');\n",
              "          docLink.innerHTML = docLinkHtml;\n",
              "          element.appendChild(docLink);\n",
              "        }\n",
              "      </script>\n",
              "    </div>\n",
              "  </div>\n",
              "  "
            ]
          },
          "metadata": {},
          "execution_count": 112
        }
      ],
      "source": [
        "df = pd. read_csv('/content/drive/MyDrive/movie recommender system/mrs new/movies_metadata.csv')\n",
        "df.head()"
      ]
    },
    {
      "cell_type": "code",
      "execution_count": 113,
      "metadata": {
        "_cell_guid": "f933a861-409a-4df7-98f1-7960a2a3874b",
        "_uuid": "d4df4c2158595611f2ea7ad4b16f71900e529ea8",
        "id": "Y_h57YCvW4u7"
      },
      "outputs": [],
      "source": [
        "df['genres'] = df['genres'].fillna('[]').apply(literal_eval).apply(lambda x: [i['name'] for i in x] if isinstance(x, list) else [])"
      ]
    },
    {
      "cell_type": "markdown",
      "metadata": {
        "_cell_guid": "23cf39ba-ef09-4972-9d1f-ed91cb2ef134",
        "_uuid": "9571875d383f237f126febe9c76f966e2869fdc3",
        "id": "Cowj4JAEW4u9"
      },
      "source": [
        "I will use IMDB's *weighted rating* formula to construct my chart. Mathematically, it is represented as follows:\n",
        "\n",
        "Weighted Rating (WR) = $(\\frac{v}{v + m} . R) + (\\frac{m}{v + m} . C)$\n",
        "\n",
        "\n",
        "where,\n",
        "* *v* is the number of votes for the movie\n",
        "* *m* is the minimum votes required to be listed in the chart\n",
        "* *R* is the average rating of the movie\n",
        "* *C* is the mean vote across the whole report\n",
        "\n",
        "The next step is to determine an appropriate value for *m*, the minimum votes required to be listed in the chart. for a movie to feature in the charts, it must have more votes than at least 95% of the movies in the list( i.e we will use 95 percentile system to get the minimum votes required to be listed in chart)."
      ]
    },
    {
      "cell_type": "code",
      "execution_count": 114,
      "metadata": {
        "_cell_guid": "de5d2a9a-9d67-4309-9256-844756318bd0",
        "_uuid": "1e732487caba09d9543f3da49cbe7ff5092e2675",
        "colab": {
          "base_uri": "https://localhost:8080/"
        },
        "id": "fzIoLKp1W4u-",
        "outputId": "eda14600-5e5f-4670-e4ba-55399b294508"
      },
      "outputs": [
        {
          "output_type": "execute_result",
          "data": {
            "text/plain": [
              "5.244896612406511"
            ]
          },
          "metadata": {},
          "execution_count": 114
        }
      ],
      "source": [
        "vote_counts = df[df['vote_count'].notnull()]['vote_count'].astype('int')\n",
        "vote_averages = df[df['vote_average'].notnull()]['vote_average'].astype('int')\n",
        "C = vote_averages.mean()\n",
        "C"
      ]
    },
    {
      "cell_type": "code",
      "execution_count": 115,
      "metadata": {
        "_cell_guid": "f2a3dff7-6430-471b-bd83-589779ab52b0",
        "_uuid": "23c2e113380f1bad9205ab2d0f8c372b0c246e79",
        "colab": {
          "base_uri": "https://localhost:8080/"
        },
        "id": "W_ugoHTYW4vA",
        "outputId": "be09955f-cde3-48d0-d6af-f591e23d36a8"
      },
      "outputs": [
        {
          "output_type": "execute_result",
          "data": {
            "text/plain": [
              "434.0"
            ]
          },
          "metadata": {},
          "execution_count": 115
        }
      ],
      "source": [
        "m = vote_counts.quantile(0.95)\n",
        "m"
      ]
    },
    {
      "cell_type": "code",
      "execution_count": 116,
      "metadata": {
        "_cell_guid": "93f480df-6e7b-427c-bbc0-906fd41640b0",
        "_uuid": "dbb8261dedb84e4a8ea8bed843c9de3ad9f3859d",
        "id": "H_6I-hwcW4vC"
      },
      "outputs": [],
      "source": [
        "df['year'] = pd.to_datetime(df['release_date'], errors='coerce').apply(lambda x: str(x).split('-')[0] if x != np.nan else np.nan)"
      ]
    },
    {
      "cell_type": "code",
      "execution_count": 117,
      "metadata": {
        "_cell_guid": "e7e91af4-7ff5-4553-bfbb-b9339096397e",
        "_uuid": "dcb30bee69ef1a6ead2c745565e5e7bfd5314d7a",
        "colab": {
          "base_uri": "https://localhost:8080/"
        },
        "id": "iL7J07JZW4vD",
        "outputId": "c967bd0b-0e88-45e1-9349-725949e9de42"
      },
      "outputs": [
        {
          "output_type": "execute_result",
          "data": {
            "text/plain": [
              "(2274, 6)"
            ]
          },
          "metadata": {},
          "execution_count": 117
        }
      ],
      "source": [
        "qualified_movies = df[(df['vote_count'] >= m) & (df['vote_count'].notnull()) & (df['vote_average'].notnull())][['title', 'year', 'vote_count', 'vote_average', 'popularity', 'genres']]\n",
        "qualified_movies['vote_count'] = qualified_movies['vote_count'].astype('int')\n",
        "qualified_movies['vote_average'] = qualified_movies['vote_average'].astype('int')\n",
        "qualified_movies.shape"
      ]
    },
    {
      "cell_type": "markdown",
      "metadata": {
        "_cell_guid": "46efcb66-53a0-4f6a-b0df-92ba7b623143",
        "_uuid": "4c114ab330fc78c91953166d515a8e963ebc3238",
        "id": "tflufLfoW4vD"
      },
      "source": [
        "the minimum votes required to be listed in the chart is 434.0.\n",
        "\n",
        "the mean vote across the whole report is 5.244896612406511"
      ]
    },
    {
      "cell_type": "code",
      "execution_count": 118,
      "metadata": {
        "_cell_guid": "db959c40-7618-4755-a05a-5347f9460929",
        "_uuid": "6414e1aa7ed8cb4184ec451f02a18cd187e5345e",
        "id": "-2jr1GziW4vE"
      },
      "outputs": [],
      "source": [
        "def weighted_rating(x):\n",
        "    v = x['vote_count']\n",
        "    R = x['vote_average']\n",
        "    return (v/(v+m) * R) + (m/(m+v) * C)"
      ]
    },
    {
      "cell_type": "code",
      "execution_count": 119,
      "metadata": {
        "_cell_guid": "0f5e4384-51be-41df-a023-12a13e77d66c",
        "_uuid": "78ec5052b0e89ae51a834aa3a305cf55b6849f42",
        "id": "tUL5AAS_W4vE"
      },
      "outputs": [],
      "source": [
        "qualified_movies['weighted_rating'] = qualified_movies.apply(weighted_rating, axis=1)"
      ]
    },
    {
      "cell_type": "code",
      "execution_count": 120,
      "metadata": {
        "_cell_guid": "ccbd8eca-cbfe-4843-9885-de11976f117c",
        "_uuid": "ed0ac7c8483f904d4f5ec0d554096d4782fa8bcf",
        "id": "VcL8iNV8W4vF"
      },
      "outputs": [],
      "source": [
        "qualified_movies = qualified_movies.sort_values('weighted_rating', ascending=False)"
      ]
    },
    {
      "cell_type": "markdown",
      "metadata": {
        "_cell_guid": "36a1b9ac-aff3-4d80-9e19-83a45f282062",
        "_uuid": "75eb9e1de05386d229746785a25c6a5c6ee4b61a",
        "id": "wzO3MzwdW4vF"
      },
      "source": [
        "# Top Movies"
      ]
    },
    {
      "cell_type": "code",
      "execution_count": 121,
      "metadata": {
        "_cell_guid": "0bca5b03-0835-4902-aaa1-beceb9d9d47f",
        "_uuid": "f7f6821b7e9aff099b81fcc425fd20109894b351",
        "colab": {
          "base_uri": "https://localhost:8080/",
          "height": 616
        },
        "id": "ZFn2Z52VW4vG",
        "outputId": "a38ce1be-0378-4afe-8932-33af37e7604d"
      },
      "outputs": [
        {
          "output_type": "execute_result",
          "data": {
            "text/plain": [
              "                                                   title  year  vote_count  \\\n",
              "15480                                          Inception  2010       14075   \n",
              "12481                                    The Dark Knight  2008       12269   \n",
              "22879                                       Interstellar  2014       11187   \n",
              "2843                                          Fight Club  1999        9678   \n",
              "4863   The Lord of the Rings: The Fellowship of the Ring  2001        8892   \n",
              "292                                         Pulp Fiction  1994        8670   \n",
              "314                             The Shawshank Redemption  1994        8358   \n",
              "7000       The Lord of the Rings: The Return of the King  2003        8226   \n",
              "351                                         Forrest Gump  1994        8147   \n",
              "5814               The Lord of the Rings: The Two Towers  2002        7641   \n",
              "256                                            Star Wars  1977        6778   \n",
              "1225                                  Back to the Future  1985        6239   \n",
              "834                                        The Godfather  1972        6024   \n",
              "1154                             The Empire Strikes Back  1980        5998   \n",
              "46                                                 Se7en  1995        5915   \n",
              "\n",
              "       vote_average  popularity  \\\n",
              "15480             8   29.108149   \n",
              "12481             8  123.167259   \n",
              "22879             8   32.213481   \n",
              "2843              8   63.869599   \n",
              "4863              8   32.070725   \n",
              "292               8  140.950236   \n",
              "314               8   51.645403   \n",
              "7000              8   29.324358   \n",
              "351               8   48.307194   \n",
              "5814              8   29.423537   \n",
              "256               8   42.149697   \n",
              "1225              8   25.778509   \n",
              "834               8   41.109264   \n",
              "1154              8   19.470959   \n",
              "46                8    18.45743   \n",
              "\n",
              "                                                  genres  weighted_rating  \n",
              "15480  [Action, Thriller, Science Fiction, Mystery, A...         7.917588  \n",
              "12481                   [Drama, Action, Crime, Thriller]         7.905871  \n",
              "22879                [Adventure, Drama, Science Fiction]         7.897107  \n",
              "2843                                             [Drama]         7.881753  \n",
              "4863                        [Adventure, Fantasy, Action]         7.871787  \n",
              "292                                    [Thriller, Crime]         7.868660  \n",
              "314                                       [Drama, Crime]         7.864000  \n",
              "7000                        [Adventure, Fantasy, Action]         7.861927  \n",
              "351                             [Comedy, Drama, Romance]         7.860656  \n",
              "5814                        [Adventure, Fantasy, Action]         7.851924  \n",
              "256                 [Adventure, Action, Science Fiction]         7.834205  \n",
              "1225        [Adventure, Comedy, Science Fiction, Family]         7.820813  \n",
              "834                                       [Drama, Crime]         7.814847  \n",
              "1154                [Adventure, Action, Science Fiction]         7.814099  \n",
              "46                            [Crime, Mystery, Thriller]         7.811669  "
            ],
            "text/html": [
              "\n",
              "  <div id=\"df-7a206020-3fd0-4693-a8f6-25ed8d16a812\">\n",
              "    <div class=\"colab-df-container\">\n",
              "      <div>\n",
              "<style scoped>\n",
              "    .dataframe tbody tr th:only-of-type {\n",
              "        vertical-align: middle;\n",
              "    }\n",
              "\n",
              "    .dataframe tbody tr th {\n",
              "        vertical-align: top;\n",
              "    }\n",
              "\n",
              "    .dataframe thead th {\n",
              "        text-align: right;\n",
              "    }\n",
              "</style>\n",
              "<table border=\"1\" class=\"dataframe\">\n",
              "  <thead>\n",
              "    <tr style=\"text-align: right;\">\n",
              "      <th></th>\n",
              "      <th>title</th>\n",
              "      <th>year</th>\n",
              "      <th>vote_count</th>\n",
              "      <th>vote_average</th>\n",
              "      <th>popularity</th>\n",
              "      <th>genres</th>\n",
              "      <th>weighted_rating</th>\n",
              "    </tr>\n",
              "  </thead>\n",
              "  <tbody>\n",
              "    <tr>\n",
              "      <th>15480</th>\n",
              "      <td>Inception</td>\n",
              "      <td>2010</td>\n",
              "      <td>14075</td>\n",
              "      <td>8</td>\n",
              "      <td>29.108149</td>\n",
              "      <td>[Action, Thriller, Science Fiction, Mystery, A...</td>\n",
              "      <td>7.917588</td>\n",
              "    </tr>\n",
              "    <tr>\n",
              "      <th>12481</th>\n",
              "      <td>The Dark Knight</td>\n",
              "      <td>2008</td>\n",
              "      <td>12269</td>\n",
              "      <td>8</td>\n",
              "      <td>123.167259</td>\n",
              "      <td>[Drama, Action, Crime, Thriller]</td>\n",
              "      <td>7.905871</td>\n",
              "    </tr>\n",
              "    <tr>\n",
              "      <th>22879</th>\n",
              "      <td>Interstellar</td>\n",
              "      <td>2014</td>\n",
              "      <td>11187</td>\n",
              "      <td>8</td>\n",
              "      <td>32.213481</td>\n",
              "      <td>[Adventure, Drama, Science Fiction]</td>\n",
              "      <td>7.897107</td>\n",
              "    </tr>\n",
              "    <tr>\n",
              "      <th>2843</th>\n",
              "      <td>Fight Club</td>\n",
              "      <td>1999</td>\n",
              "      <td>9678</td>\n",
              "      <td>8</td>\n",
              "      <td>63.869599</td>\n",
              "      <td>[Drama]</td>\n",
              "      <td>7.881753</td>\n",
              "    </tr>\n",
              "    <tr>\n",
              "      <th>4863</th>\n",
              "      <td>The Lord of the Rings: The Fellowship of the Ring</td>\n",
              "      <td>2001</td>\n",
              "      <td>8892</td>\n",
              "      <td>8</td>\n",
              "      <td>32.070725</td>\n",
              "      <td>[Adventure, Fantasy, Action]</td>\n",
              "      <td>7.871787</td>\n",
              "    </tr>\n",
              "    <tr>\n",
              "      <th>292</th>\n",
              "      <td>Pulp Fiction</td>\n",
              "      <td>1994</td>\n",
              "      <td>8670</td>\n",
              "      <td>8</td>\n",
              "      <td>140.950236</td>\n",
              "      <td>[Thriller, Crime]</td>\n",
              "      <td>7.868660</td>\n",
              "    </tr>\n",
              "    <tr>\n",
              "      <th>314</th>\n",
              "      <td>The Shawshank Redemption</td>\n",
              "      <td>1994</td>\n",
              "      <td>8358</td>\n",
              "      <td>8</td>\n",
              "      <td>51.645403</td>\n",
              "      <td>[Drama, Crime]</td>\n",
              "      <td>7.864000</td>\n",
              "    </tr>\n",
              "    <tr>\n",
              "      <th>7000</th>\n",
              "      <td>The Lord of the Rings: The Return of the King</td>\n",
              "      <td>2003</td>\n",
              "      <td>8226</td>\n",
              "      <td>8</td>\n",
              "      <td>29.324358</td>\n",
              "      <td>[Adventure, Fantasy, Action]</td>\n",
              "      <td>7.861927</td>\n",
              "    </tr>\n",
              "    <tr>\n",
              "      <th>351</th>\n",
              "      <td>Forrest Gump</td>\n",
              "      <td>1994</td>\n",
              "      <td>8147</td>\n",
              "      <td>8</td>\n",
              "      <td>48.307194</td>\n",
              "      <td>[Comedy, Drama, Romance]</td>\n",
              "      <td>7.860656</td>\n",
              "    </tr>\n",
              "    <tr>\n",
              "      <th>5814</th>\n",
              "      <td>The Lord of the Rings: The Two Towers</td>\n",
              "      <td>2002</td>\n",
              "      <td>7641</td>\n",
              "      <td>8</td>\n",
              "      <td>29.423537</td>\n",
              "      <td>[Adventure, Fantasy, Action]</td>\n",
              "      <td>7.851924</td>\n",
              "    </tr>\n",
              "    <tr>\n",
              "      <th>256</th>\n",
              "      <td>Star Wars</td>\n",
              "      <td>1977</td>\n",
              "      <td>6778</td>\n",
              "      <td>8</td>\n",
              "      <td>42.149697</td>\n",
              "      <td>[Adventure, Action, Science Fiction]</td>\n",
              "      <td>7.834205</td>\n",
              "    </tr>\n",
              "    <tr>\n",
              "      <th>1225</th>\n",
              "      <td>Back to the Future</td>\n",
              "      <td>1985</td>\n",
              "      <td>6239</td>\n",
              "      <td>8</td>\n",
              "      <td>25.778509</td>\n",
              "      <td>[Adventure, Comedy, Science Fiction, Family]</td>\n",
              "      <td>7.820813</td>\n",
              "    </tr>\n",
              "    <tr>\n",
              "      <th>834</th>\n",
              "      <td>The Godfather</td>\n",
              "      <td>1972</td>\n",
              "      <td>6024</td>\n",
              "      <td>8</td>\n",
              "      <td>41.109264</td>\n",
              "      <td>[Drama, Crime]</td>\n",
              "      <td>7.814847</td>\n",
              "    </tr>\n",
              "    <tr>\n",
              "      <th>1154</th>\n",
              "      <td>The Empire Strikes Back</td>\n",
              "      <td>1980</td>\n",
              "      <td>5998</td>\n",
              "      <td>8</td>\n",
              "      <td>19.470959</td>\n",
              "      <td>[Adventure, Action, Science Fiction]</td>\n",
              "      <td>7.814099</td>\n",
              "    </tr>\n",
              "    <tr>\n",
              "      <th>46</th>\n",
              "      <td>Se7en</td>\n",
              "      <td>1995</td>\n",
              "      <td>5915</td>\n",
              "      <td>8</td>\n",
              "      <td>18.45743</td>\n",
              "      <td>[Crime, Mystery, Thriller]</td>\n",
              "      <td>7.811669</td>\n",
              "    </tr>\n",
              "  </tbody>\n",
              "</table>\n",
              "</div>\n",
              "      <button class=\"colab-df-convert\" onclick=\"convertToInteractive('df-7a206020-3fd0-4693-a8f6-25ed8d16a812')\"\n",
              "              title=\"Convert this dataframe to an interactive table.\"\n",
              "              style=\"display:none;\">\n",
              "        \n",
              "  <svg xmlns=\"http://www.w3.org/2000/svg\" height=\"24px\"viewBox=\"0 0 24 24\"\n",
              "       width=\"24px\">\n",
              "    <path d=\"M0 0h24v24H0V0z\" fill=\"none\"/>\n",
              "    <path d=\"M18.56 5.44l.94 2.06.94-2.06 2.06-.94-2.06-.94-.94-2.06-.94 2.06-2.06.94zm-11 1L8.5 8.5l.94-2.06 2.06-.94-2.06-.94L8.5 2.5l-.94 2.06-2.06.94zm10 10l.94 2.06.94-2.06 2.06-.94-2.06-.94-.94-2.06-.94 2.06-2.06.94z\"/><path d=\"M17.41 7.96l-1.37-1.37c-.4-.4-.92-.59-1.43-.59-.52 0-1.04.2-1.43.59L10.3 9.45l-7.72 7.72c-.78.78-.78 2.05 0 2.83L4 21.41c.39.39.9.59 1.41.59.51 0 1.02-.2 1.41-.59l7.78-7.78 2.81-2.81c.8-.78.8-2.07 0-2.86zM5.41 20L4 18.59l7.72-7.72 1.47 1.35L5.41 20z\"/>\n",
              "  </svg>\n",
              "      </button>\n",
              "      \n",
              "  <style>\n",
              "    .colab-df-container {\n",
              "      display:flex;\n",
              "      flex-wrap:wrap;\n",
              "      gap: 12px;\n",
              "    }\n",
              "\n",
              "    .colab-df-convert {\n",
              "      background-color: #E8F0FE;\n",
              "      border: none;\n",
              "      border-radius: 50%;\n",
              "      cursor: pointer;\n",
              "      display: none;\n",
              "      fill: #1967D2;\n",
              "      height: 32px;\n",
              "      padding: 0 0 0 0;\n",
              "      width: 32px;\n",
              "    }\n",
              "\n",
              "    .colab-df-convert:hover {\n",
              "      background-color: #E2EBFA;\n",
              "      box-shadow: 0px 1px 2px rgba(60, 64, 67, 0.3), 0px 1px 3px 1px rgba(60, 64, 67, 0.15);\n",
              "      fill: #174EA6;\n",
              "    }\n",
              "\n",
              "    [theme=dark] .colab-df-convert {\n",
              "      background-color: #3B4455;\n",
              "      fill: #D2E3FC;\n",
              "    }\n",
              "\n",
              "    [theme=dark] .colab-df-convert:hover {\n",
              "      background-color: #434B5C;\n",
              "      box-shadow: 0px 1px 3px 1px rgba(0, 0, 0, 0.15);\n",
              "      filter: drop-shadow(0px 1px 2px rgba(0, 0, 0, 0.3));\n",
              "      fill: #FFFFFF;\n",
              "    }\n",
              "  </style>\n",
              "\n",
              "      <script>\n",
              "        const buttonEl =\n",
              "          document.querySelector('#df-7a206020-3fd0-4693-a8f6-25ed8d16a812 button.colab-df-convert');\n",
              "        buttonEl.style.display =\n",
              "          google.colab.kernel.accessAllowed ? 'block' : 'none';\n",
              "\n",
              "        async function convertToInteractive(key) {\n",
              "          const element = document.querySelector('#df-7a206020-3fd0-4693-a8f6-25ed8d16a812');\n",
              "          const dataTable =\n",
              "            await google.colab.kernel.invokeFunction('convertToInteractive',\n",
              "                                                     [key], {});\n",
              "          if (!dataTable) return;\n",
              "\n",
              "          const docLinkHtml = 'Like what you see? Visit the ' +\n",
              "            '<a target=\"_blank\" href=https://colab.research.google.com/notebooks/data_table.ipynb>data table notebook</a>'\n",
              "            + ' to learn more about interactive tables.';\n",
              "          element.innerHTML = '';\n",
              "          dataTable['output_type'] = 'display_data';\n",
              "          await google.colab.output.renderOutput(dataTable, element);\n",
              "          const docLink = document.createElement('div');\n",
              "          docLink.innerHTML = docLinkHtml;\n",
              "          element.appendChild(docLink);\n",
              "        }\n",
              "      </script>\n",
              "    </div>\n",
              "  </div>\n",
              "  "
            ]
          },
          "metadata": {},
          "execution_count": 121
        }
      ],
      "source": [
        "qualified_movies.head(15)"
      ]
    },
    {
      "cell_type": "markdown",
      "metadata": {
        "id": "BnJsNUYGW4vH"
      },
      "source": [
        "# Top Movies Based on Genres"
      ]
    },
    {
      "cell_type": "code",
      "execution_count": 122,
      "metadata": {
        "_cell_guid": "c6be871d-62d4-4ec4-abe4-6ca1b1c01fa0",
        "_uuid": "b59a35544efcd50e89e4bb1ea14bbfe32fc9bcd3",
        "id": "EPRMQIXnW4vI"
      },
      "outputs": [],
      "source": [
        "new_df = df.apply(lambda x: pd.Series(x['genres']),axis=1).stack().reset_index(level=1, drop=True)\n",
        "new_df.name = 'genre'\n",
        "gen_df = df.drop('genres', axis=1).join(new_df)"
      ]
    },
    {
      "cell_type": "code",
      "execution_count": 123,
      "metadata": {
        "_cell_guid": "759652cb-5b16-4951-995c-6a3bdbae0e4e",
        "_uuid": "1fdfea9cd4b046b11ff8f2ac4f2bea74fccb8a8b",
        "id": "-Y8fujeyW4vI"
      },
      "outputs": [],
      "source": [
        "def genrebasedrec(genre, percentile=0.95):\n",
        "    df = gen_df[gen_df['genre'] == genre]\n",
        "    vote_counts = df[df['vote_count'].notnull()]['vote_count'].astype('int')\n",
        "    vote_averages = df[df['vote_average'].notnull()]['vote_average'].astype('int')\n",
        "    C = vote_averages.mean()\n",
        "    m = vote_counts.quantile(percentile)\n",
        "    \n",
        "    qualified = df[(df['vote_count'] >= m) & (df['vote_count'].notnull()) & (df['vote_average'].notnull())][['title', 'year', 'vote_count', 'vote_average', 'popularity']]\n",
        "    qualified['vote_count'] = qualified['vote_count'].astype('int')\n",
        "    qualified['vote_average'] = qualified['vote_average'].astype('int')\n",
        "    \n",
        "    qualified['weighted_rating'] = qualified.apply(lambda x: (x['vote_count']/(x['vote_count']+m) * x['vote_average']) + (m/(m+x['vote_count']) * C), axis=1)\n",
        "    qualified = qualified.sort_values('weighted_rating', ascending=False).head(250)\n",
        "    \n",
        "    return qualified"
      ]
    },
    {
      "cell_type": "markdown",
      "metadata": {
        "_cell_guid": "55f22de0-0df9-405a-9197-df5a8c0e8466",
        "_uuid": "a76ce0f8a8f614aa6f23cb9a6e0fd6af6d048642",
        "id": "rp2R1dx7W4vJ"
      },
      "source": [
        "# Top Romance Movies"
      ]
    },
    {
      "cell_type": "code",
      "execution_count": 124,
      "metadata": {
        "_cell_guid": "af61da24-494b-48ac-b7b7-64ec0eaedaf8",
        "_uuid": "bf2816495a16de1bb84dc826fd33eee7e663f45d",
        "colab": {
          "base_uri": "https://localhost:8080/",
          "height": 520
        },
        "id": "-7lQ1UoJW4vJ",
        "outputId": "8025c230-7cfe-43e1-8521-6aa75e92049d"
      },
      "outputs": [
        {
          "output_type": "execute_result",
          "data": {
            "text/plain": [
              "                             title  year  vote_count  vote_average popularity  \\\n",
              "351                   Forrest Gump  1994        8147             8  48.307194   \n",
              "10309  Dilwale Dulhania Le Jayenge  1995         661             9  34.457024   \n",
              "876                        Vertigo  1958        1162             8   18.20822   \n",
              "40251                   Your Name.  2016        1030             8  34.461252   \n",
              "883               Some Like It Hot  1959         835             8  11.845107   \n",
              "1132               Cinema Paradiso  1988         834             8  14.177005   \n",
              "19901                     Paperman  2012         734             8   7.198633   \n",
              "37863                  Sing Street  2016         669             8  10.672862   \n",
              "1639                       Titanic  1997        7770             7   26.88907   \n",
              "19731      Silver Linings Playbook  2012        4840             7  14.488111   \n",
              "40882                   La La Land  2016        4745             7  19.681686   \n",
              "23437                   Maleficent  2014        4607             7  19.467404   \n",
              "22168                          Her  2013        4215             7  13.829515   \n",
              "20910             The Great Gatsby  2013        3885             7  17.598936   \n",
              "23512       The Fault in Our Stars  2014        3868             7  16.274653   \n",
              "\n",
              "       weighted_rating  \n",
              "351           7.869860  \n",
              "10309         7.582757  \n",
              "876           7.298862  \n",
              "40251         7.235471  \n",
              "883           7.117619  \n",
              "1132          7.116921  \n",
              "19901         7.041055  \n",
              "37863         6.984338  \n",
              "1639          6.916316  \n",
              "19731         6.869789  \n",
              "40882         6.867399  \n",
              "23437         6.863766  \n",
              "22168         6.852269  \n",
              "20910         6.840970  \n",
              "23512         6.840341  "
            ],
            "text/html": [
              "\n",
              "  <div id=\"df-c29289c5-91fc-4f24-9622-6d32fc95ad8f\">\n",
              "    <div class=\"colab-df-container\">\n",
              "      <div>\n",
              "<style scoped>\n",
              "    .dataframe tbody tr th:only-of-type {\n",
              "        vertical-align: middle;\n",
              "    }\n",
              "\n",
              "    .dataframe tbody tr th {\n",
              "        vertical-align: top;\n",
              "    }\n",
              "\n",
              "    .dataframe thead th {\n",
              "        text-align: right;\n",
              "    }\n",
              "</style>\n",
              "<table border=\"1\" class=\"dataframe\">\n",
              "  <thead>\n",
              "    <tr style=\"text-align: right;\">\n",
              "      <th></th>\n",
              "      <th>title</th>\n",
              "      <th>year</th>\n",
              "      <th>vote_count</th>\n",
              "      <th>vote_average</th>\n",
              "      <th>popularity</th>\n",
              "      <th>weighted_rating</th>\n",
              "    </tr>\n",
              "  </thead>\n",
              "  <tbody>\n",
              "    <tr>\n",
              "      <th>351</th>\n",
              "      <td>Forrest Gump</td>\n",
              "      <td>1994</td>\n",
              "      <td>8147</td>\n",
              "      <td>8</td>\n",
              "      <td>48.307194</td>\n",
              "      <td>7.869860</td>\n",
              "    </tr>\n",
              "    <tr>\n",
              "      <th>10309</th>\n",
              "      <td>Dilwale Dulhania Le Jayenge</td>\n",
              "      <td>1995</td>\n",
              "      <td>661</td>\n",
              "      <td>9</td>\n",
              "      <td>34.457024</td>\n",
              "      <td>7.582757</td>\n",
              "    </tr>\n",
              "    <tr>\n",
              "      <th>876</th>\n",
              "      <td>Vertigo</td>\n",
              "      <td>1958</td>\n",
              "      <td>1162</td>\n",
              "      <td>8</td>\n",
              "      <td>18.20822</td>\n",
              "      <td>7.298862</td>\n",
              "    </tr>\n",
              "    <tr>\n",
              "      <th>40251</th>\n",
              "      <td>Your Name.</td>\n",
              "      <td>2016</td>\n",
              "      <td>1030</td>\n",
              "      <td>8</td>\n",
              "      <td>34.461252</td>\n",
              "      <td>7.235471</td>\n",
              "    </tr>\n",
              "    <tr>\n",
              "      <th>883</th>\n",
              "      <td>Some Like It Hot</td>\n",
              "      <td>1959</td>\n",
              "      <td>835</td>\n",
              "      <td>8</td>\n",
              "      <td>11.845107</td>\n",
              "      <td>7.117619</td>\n",
              "    </tr>\n",
              "    <tr>\n",
              "      <th>1132</th>\n",
              "      <td>Cinema Paradiso</td>\n",
              "      <td>1988</td>\n",
              "      <td>834</td>\n",
              "      <td>8</td>\n",
              "      <td>14.177005</td>\n",
              "      <td>7.116921</td>\n",
              "    </tr>\n",
              "    <tr>\n",
              "      <th>19901</th>\n",
              "      <td>Paperman</td>\n",
              "      <td>2012</td>\n",
              "      <td>734</td>\n",
              "      <td>8</td>\n",
              "      <td>7.198633</td>\n",
              "      <td>7.041055</td>\n",
              "    </tr>\n",
              "    <tr>\n",
              "      <th>37863</th>\n",
              "      <td>Sing Street</td>\n",
              "      <td>2016</td>\n",
              "      <td>669</td>\n",
              "      <td>8</td>\n",
              "      <td>10.672862</td>\n",
              "      <td>6.984338</td>\n",
              "    </tr>\n",
              "    <tr>\n",
              "      <th>1639</th>\n",
              "      <td>Titanic</td>\n",
              "      <td>1997</td>\n",
              "      <td>7770</td>\n",
              "      <td>7</td>\n",
              "      <td>26.88907</td>\n",
              "      <td>6.916316</td>\n",
              "    </tr>\n",
              "    <tr>\n",
              "      <th>19731</th>\n",
              "      <td>Silver Linings Playbook</td>\n",
              "      <td>2012</td>\n",
              "      <td>4840</td>\n",
              "      <td>7</td>\n",
              "      <td>14.488111</td>\n",
              "      <td>6.869789</td>\n",
              "    </tr>\n",
              "    <tr>\n",
              "      <th>40882</th>\n",
              "      <td>La La Land</td>\n",
              "      <td>2016</td>\n",
              "      <td>4745</td>\n",
              "      <td>7</td>\n",
              "      <td>19.681686</td>\n",
              "      <td>6.867399</td>\n",
              "    </tr>\n",
              "    <tr>\n",
              "      <th>23437</th>\n",
              "      <td>Maleficent</td>\n",
              "      <td>2014</td>\n",
              "      <td>4607</td>\n",
              "      <td>7</td>\n",
              "      <td>19.467404</td>\n",
              "      <td>6.863766</td>\n",
              "    </tr>\n",
              "    <tr>\n",
              "      <th>22168</th>\n",
              "      <td>Her</td>\n",
              "      <td>2013</td>\n",
              "      <td>4215</td>\n",
              "      <td>7</td>\n",
              "      <td>13.829515</td>\n",
              "      <td>6.852269</td>\n",
              "    </tr>\n",
              "    <tr>\n",
              "      <th>20910</th>\n",
              "      <td>The Great Gatsby</td>\n",
              "      <td>2013</td>\n",
              "      <td>3885</td>\n",
              "      <td>7</td>\n",
              "      <td>17.598936</td>\n",
              "      <td>6.840970</td>\n",
              "    </tr>\n",
              "    <tr>\n",
              "      <th>23512</th>\n",
              "      <td>The Fault in Our Stars</td>\n",
              "      <td>2014</td>\n",
              "      <td>3868</td>\n",
              "      <td>7</td>\n",
              "      <td>16.274653</td>\n",
              "      <td>6.840341</td>\n",
              "    </tr>\n",
              "  </tbody>\n",
              "</table>\n",
              "</div>\n",
              "      <button class=\"colab-df-convert\" onclick=\"convertToInteractive('df-c29289c5-91fc-4f24-9622-6d32fc95ad8f')\"\n",
              "              title=\"Convert this dataframe to an interactive table.\"\n",
              "              style=\"display:none;\">\n",
              "        \n",
              "  <svg xmlns=\"http://www.w3.org/2000/svg\" height=\"24px\"viewBox=\"0 0 24 24\"\n",
              "       width=\"24px\">\n",
              "    <path d=\"M0 0h24v24H0V0z\" fill=\"none\"/>\n",
              "    <path d=\"M18.56 5.44l.94 2.06.94-2.06 2.06-.94-2.06-.94-.94-2.06-.94 2.06-2.06.94zm-11 1L8.5 8.5l.94-2.06 2.06-.94-2.06-.94L8.5 2.5l-.94 2.06-2.06.94zm10 10l.94 2.06.94-2.06 2.06-.94-2.06-.94-.94-2.06-.94 2.06-2.06.94z\"/><path d=\"M17.41 7.96l-1.37-1.37c-.4-.4-.92-.59-1.43-.59-.52 0-1.04.2-1.43.59L10.3 9.45l-7.72 7.72c-.78.78-.78 2.05 0 2.83L4 21.41c.39.39.9.59 1.41.59.51 0 1.02-.2 1.41-.59l7.78-7.78 2.81-2.81c.8-.78.8-2.07 0-2.86zM5.41 20L4 18.59l7.72-7.72 1.47 1.35L5.41 20z\"/>\n",
              "  </svg>\n",
              "      </button>\n",
              "      \n",
              "  <style>\n",
              "    .colab-df-container {\n",
              "      display:flex;\n",
              "      flex-wrap:wrap;\n",
              "      gap: 12px;\n",
              "    }\n",
              "\n",
              "    .colab-df-convert {\n",
              "      background-color: #E8F0FE;\n",
              "      border: none;\n",
              "      border-radius: 50%;\n",
              "      cursor: pointer;\n",
              "      display: none;\n",
              "      fill: #1967D2;\n",
              "      height: 32px;\n",
              "      padding: 0 0 0 0;\n",
              "      width: 32px;\n",
              "    }\n",
              "\n",
              "    .colab-df-convert:hover {\n",
              "      background-color: #E2EBFA;\n",
              "      box-shadow: 0px 1px 2px rgba(60, 64, 67, 0.3), 0px 1px 3px 1px rgba(60, 64, 67, 0.15);\n",
              "      fill: #174EA6;\n",
              "    }\n",
              "\n",
              "    [theme=dark] .colab-df-convert {\n",
              "      background-color: #3B4455;\n",
              "      fill: #D2E3FC;\n",
              "    }\n",
              "\n",
              "    [theme=dark] .colab-df-convert:hover {\n",
              "      background-color: #434B5C;\n",
              "      box-shadow: 0px 1px 3px 1px rgba(0, 0, 0, 0.15);\n",
              "      filter: drop-shadow(0px 1px 2px rgba(0, 0, 0, 0.3));\n",
              "      fill: #FFFFFF;\n",
              "    }\n",
              "  </style>\n",
              "\n",
              "      <script>\n",
              "        const buttonEl =\n",
              "          document.querySelector('#df-c29289c5-91fc-4f24-9622-6d32fc95ad8f button.colab-df-convert');\n",
              "        buttonEl.style.display =\n",
              "          google.colab.kernel.accessAllowed ? 'block' : 'none';\n",
              "\n",
              "        async function convertToInteractive(key) {\n",
              "          const element = document.querySelector('#df-c29289c5-91fc-4f24-9622-6d32fc95ad8f');\n",
              "          const dataTable =\n",
              "            await google.colab.kernel.invokeFunction('convertToInteractive',\n",
              "                                                     [key], {});\n",
              "          if (!dataTable) return;\n",
              "\n",
              "          const docLinkHtml = 'Like what you see? Visit the ' +\n",
              "            '<a target=\"_blank\" href=https://colab.research.google.com/notebooks/data_table.ipynb>data table notebook</a>'\n",
              "            + ' to learn more about interactive tables.';\n",
              "          element.innerHTML = '';\n",
              "          dataTable['output_type'] = 'display_data';\n",
              "          await google.colab.output.renderOutput(dataTable, element);\n",
              "          const docLink = document.createElement('div');\n",
              "          docLink.innerHTML = docLinkHtml;\n",
              "          element.appendChild(docLink);\n",
              "        }\n",
              "      </script>\n",
              "    </div>\n",
              "  </div>\n",
              "  "
            ]
          },
          "metadata": {},
          "execution_count": 124
        }
      ],
      "source": [
        "genrebasedrec('Romance').head(15)"
      ]
    },
    {
      "cell_type": "markdown",
      "metadata": {
        "id": "f0Vy1b8MW4vJ"
      },
      "source": [
        "# Top Action Movies"
      ]
    },
    {
      "cell_type": "code",
      "execution_count": 125,
      "metadata": {
        "colab": {
          "base_uri": "https://localhost:8080/",
          "height": 520
        },
        "id": "EYLEKDynW4vK",
        "outputId": "40831166-8e85-49c1-8965-b6c8b2adb80a"
      },
      "outputs": [
        {
          "output_type": "execute_result",
          "data": {
            "text/plain": [
              "                                                   title  year  vote_count  \\\n",
              "15480                                          Inception  2010       14075   \n",
              "12481                                    The Dark Knight  2008       12269   \n",
              "4863   The Lord of the Rings: The Fellowship of the Ring  2001        8892   \n",
              "7000       The Lord of the Rings: The Return of the King  2003        8226   \n",
              "5814               The Lord of the Rings: The Two Towers  2002        7641   \n",
              "256                                            Star Wars  1977        6778   \n",
              "1154                             The Empire Strikes Back  1980        5998   \n",
              "4135                                            Scarface  1983        3017   \n",
              "9430                                              Oldboy  2003        2000   \n",
              "14551                                             Avatar  2009       12114   \n",
              "17818                                       The Avengers  2012       12000   \n",
              "26564                                           Deadpool  2016       11444   \n",
              "23753                            Guardians of the Galaxy  2014       10014   \n",
              "26553                                 Mad Max: Fury Road  2015        9629   \n",
              "18252                              The Dark Knight Rises  2012        9263   \n",
              "\n",
              "       vote_average  popularity  weighted_rating  \n",
              "15480             8   29.108149         7.736766  \n",
              "12481             8  123.167259         7.702099  \n",
              "4863              8   32.070725         7.604772  \n",
              "7000              8   29.324358         7.577552  \n",
              "5814              8   29.423537         7.550351  \n",
              "256               8   42.149697         7.503157  \n",
              "1154              8   19.470959         7.451086  \n",
              "4135              8   11.299673         7.084315  \n",
              "9430              8   10.616859         6.813948  \n",
              "14551             7  185.070892         6.805225  \n",
              "17818             7   89.887648         6.803573  \n",
              "26564             7  187.860492         6.795100  \n",
              "23753             7   53.291601         6.769528  \n",
              "26553             7    29.36178         6.761515  \n",
              "18252             7    20.58258         6.753363  "
            ],
            "text/html": [
              "\n",
              "  <div id=\"df-3be350d7-50e8-4134-8f85-3d1ffe3e72bc\">\n",
              "    <div class=\"colab-df-container\">\n",
              "      <div>\n",
              "<style scoped>\n",
              "    .dataframe tbody tr th:only-of-type {\n",
              "        vertical-align: middle;\n",
              "    }\n",
              "\n",
              "    .dataframe tbody tr th {\n",
              "        vertical-align: top;\n",
              "    }\n",
              "\n",
              "    .dataframe thead th {\n",
              "        text-align: right;\n",
              "    }\n",
              "</style>\n",
              "<table border=\"1\" class=\"dataframe\">\n",
              "  <thead>\n",
              "    <tr style=\"text-align: right;\">\n",
              "      <th></th>\n",
              "      <th>title</th>\n",
              "      <th>year</th>\n",
              "      <th>vote_count</th>\n",
              "      <th>vote_average</th>\n",
              "      <th>popularity</th>\n",
              "      <th>weighted_rating</th>\n",
              "    </tr>\n",
              "  </thead>\n",
              "  <tbody>\n",
              "    <tr>\n",
              "      <th>15480</th>\n",
              "      <td>Inception</td>\n",
              "      <td>2010</td>\n",
              "      <td>14075</td>\n",
              "      <td>8</td>\n",
              "      <td>29.108149</td>\n",
              "      <td>7.736766</td>\n",
              "    </tr>\n",
              "    <tr>\n",
              "      <th>12481</th>\n",
              "      <td>The Dark Knight</td>\n",
              "      <td>2008</td>\n",
              "      <td>12269</td>\n",
              "      <td>8</td>\n",
              "      <td>123.167259</td>\n",
              "      <td>7.702099</td>\n",
              "    </tr>\n",
              "    <tr>\n",
              "      <th>4863</th>\n",
              "      <td>The Lord of the Rings: The Fellowship of the Ring</td>\n",
              "      <td>2001</td>\n",
              "      <td>8892</td>\n",
              "      <td>8</td>\n",
              "      <td>32.070725</td>\n",
              "      <td>7.604772</td>\n",
              "    </tr>\n",
              "    <tr>\n",
              "      <th>7000</th>\n",
              "      <td>The Lord of the Rings: The Return of the King</td>\n",
              "      <td>2003</td>\n",
              "      <td>8226</td>\n",
              "      <td>8</td>\n",
              "      <td>29.324358</td>\n",
              "      <td>7.577552</td>\n",
              "    </tr>\n",
              "    <tr>\n",
              "      <th>5814</th>\n",
              "      <td>The Lord of the Rings: The Two Towers</td>\n",
              "      <td>2002</td>\n",
              "      <td>7641</td>\n",
              "      <td>8</td>\n",
              "      <td>29.423537</td>\n",
              "      <td>7.550351</td>\n",
              "    </tr>\n",
              "    <tr>\n",
              "      <th>256</th>\n",
              "      <td>Star Wars</td>\n",
              "      <td>1977</td>\n",
              "      <td>6778</td>\n",
              "      <td>8</td>\n",
              "      <td>42.149697</td>\n",
              "      <td>7.503157</td>\n",
              "    </tr>\n",
              "    <tr>\n",
              "      <th>1154</th>\n",
              "      <td>The Empire Strikes Back</td>\n",
              "      <td>1980</td>\n",
              "      <td>5998</td>\n",
              "      <td>8</td>\n",
              "      <td>19.470959</td>\n",
              "      <td>7.451086</td>\n",
              "    </tr>\n",
              "    <tr>\n",
              "      <th>4135</th>\n",
              "      <td>Scarface</td>\n",
              "      <td>1983</td>\n",
              "      <td>3017</td>\n",
              "      <td>8</td>\n",
              "      <td>11.299673</td>\n",
              "      <td>7.084315</td>\n",
              "    </tr>\n",
              "    <tr>\n",
              "      <th>9430</th>\n",
              "      <td>Oldboy</td>\n",
              "      <td>2003</td>\n",
              "      <td>2000</td>\n",
              "      <td>8</td>\n",
              "      <td>10.616859</td>\n",
              "      <td>6.813948</td>\n",
              "    </tr>\n",
              "    <tr>\n",
              "      <th>14551</th>\n",
              "      <td>Avatar</td>\n",
              "      <td>2009</td>\n",
              "      <td>12114</td>\n",
              "      <td>7</td>\n",
              "      <td>185.070892</td>\n",
              "      <td>6.805225</td>\n",
              "    </tr>\n",
              "    <tr>\n",
              "      <th>17818</th>\n",
              "      <td>The Avengers</td>\n",
              "      <td>2012</td>\n",
              "      <td>12000</td>\n",
              "      <td>7</td>\n",
              "      <td>89.887648</td>\n",
              "      <td>6.803573</td>\n",
              "    </tr>\n",
              "    <tr>\n",
              "      <th>26564</th>\n",
              "      <td>Deadpool</td>\n",
              "      <td>2016</td>\n",
              "      <td>11444</td>\n",
              "      <td>7</td>\n",
              "      <td>187.860492</td>\n",
              "      <td>6.795100</td>\n",
              "    </tr>\n",
              "    <tr>\n",
              "      <th>23753</th>\n",
              "      <td>Guardians of the Galaxy</td>\n",
              "      <td>2014</td>\n",
              "      <td>10014</td>\n",
              "      <td>7</td>\n",
              "      <td>53.291601</td>\n",
              "      <td>6.769528</td>\n",
              "    </tr>\n",
              "    <tr>\n",
              "      <th>26553</th>\n",
              "      <td>Mad Max: Fury Road</td>\n",
              "      <td>2015</td>\n",
              "      <td>9629</td>\n",
              "      <td>7</td>\n",
              "      <td>29.36178</td>\n",
              "      <td>6.761515</td>\n",
              "    </tr>\n",
              "    <tr>\n",
              "      <th>18252</th>\n",
              "      <td>The Dark Knight Rises</td>\n",
              "      <td>2012</td>\n",
              "      <td>9263</td>\n",
              "      <td>7</td>\n",
              "      <td>20.58258</td>\n",
              "      <td>6.753363</td>\n",
              "    </tr>\n",
              "  </tbody>\n",
              "</table>\n",
              "</div>\n",
              "      <button class=\"colab-df-convert\" onclick=\"convertToInteractive('df-3be350d7-50e8-4134-8f85-3d1ffe3e72bc')\"\n",
              "              title=\"Convert this dataframe to an interactive table.\"\n",
              "              style=\"display:none;\">\n",
              "        \n",
              "  <svg xmlns=\"http://www.w3.org/2000/svg\" height=\"24px\"viewBox=\"0 0 24 24\"\n",
              "       width=\"24px\">\n",
              "    <path d=\"M0 0h24v24H0V0z\" fill=\"none\"/>\n",
              "    <path d=\"M18.56 5.44l.94 2.06.94-2.06 2.06-.94-2.06-.94-.94-2.06-.94 2.06-2.06.94zm-11 1L8.5 8.5l.94-2.06 2.06-.94-2.06-.94L8.5 2.5l-.94 2.06-2.06.94zm10 10l.94 2.06.94-2.06 2.06-.94-2.06-.94-.94-2.06-.94 2.06-2.06.94z\"/><path d=\"M17.41 7.96l-1.37-1.37c-.4-.4-.92-.59-1.43-.59-.52 0-1.04.2-1.43.59L10.3 9.45l-7.72 7.72c-.78.78-.78 2.05 0 2.83L4 21.41c.39.39.9.59 1.41.59.51 0 1.02-.2 1.41-.59l7.78-7.78 2.81-2.81c.8-.78.8-2.07 0-2.86zM5.41 20L4 18.59l7.72-7.72 1.47 1.35L5.41 20z\"/>\n",
              "  </svg>\n",
              "      </button>\n",
              "      \n",
              "  <style>\n",
              "    .colab-df-container {\n",
              "      display:flex;\n",
              "      flex-wrap:wrap;\n",
              "      gap: 12px;\n",
              "    }\n",
              "\n",
              "    .colab-df-convert {\n",
              "      background-color: #E8F0FE;\n",
              "      border: none;\n",
              "      border-radius: 50%;\n",
              "      cursor: pointer;\n",
              "      display: none;\n",
              "      fill: #1967D2;\n",
              "      height: 32px;\n",
              "      padding: 0 0 0 0;\n",
              "      width: 32px;\n",
              "    }\n",
              "\n",
              "    .colab-df-convert:hover {\n",
              "      background-color: #E2EBFA;\n",
              "      box-shadow: 0px 1px 2px rgba(60, 64, 67, 0.3), 0px 1px 3px 1px rgba(60, 64, 67, 0.15);\n",
              "      fill: #174EA6;\n",
              "    }\n",
              "\n",
              "    [theme=dark] .colab-df-convert {\n",
              "      background-color: #3B4455;\n",
              "      fill: #D2E3FC;\n",
              "    }\n",
              "\n",
              "    [theme=dark] .colab-df-convert:hover {\n",
              "      background-color: #434B5C;\n",
              "      box-shadow: 0px 1px 3px 1px rgba(0, 0, 0, 0.15);\n",
              "      filter: drop-shadow(0px 1px 2px rgba(0, 0, 0, 0.3));\n",
              "      fill: #FFFFFF;\n",
              "    }\n",
              "  </style>\n",
              "\n",
              "      <script>\n",
              "        const buttonEl =\n",
              "          document.querySelector('#df-3be350d7-50e8-4134-8f85-3d1ffe3e72bc button.colab-df-convert');\n",
              "        buttonEl.style.display =\n",
              "          google.colab.kernel.accessAllowed ? 'block' : 'none';\n",
              "\n",
              "        async function convertToInteractive(key) {\n",
              "          const element = document.querySelector('#df-3be350d7-50e8-4134-8f85-3d1ffe3e72bc');\n",
              "          const dataTable =\n",
              "            await google.colab.kernel.invokeFunction('convertToInteractive',\n",
              "                                                     [key], {});\n",
              "          if (!dataTable) return;\n",
              "\n",
              "          const docLinkHtml = 'Like what you see? Visit the ' +\n",
              "            '<a target=\"_blank\" href=https://colab.research.google.com/notebooks/data_table.ipynb>data table notebook</a>'\n",
              "            + ' to learn more about interactive tables.';\n",
              "          element.innerHTML = '';\n",
              "          dataTable['output_type'] = 'display_data';\n",
              "          await google.colab.output.renderOutput(dataTable, element);\n",
              "          const docLink = document.createElement('div');\n",
              "          docLink.innerHTML = docLinkHtml;\n",
              "          element.appendChild(docLink);\n",
              "        }\n",
              "      </script>\n",
              "    </div>\n",
              "  </div>\n",
              "  "
            ]
          },
          "metadata": {},
          "execution_count": 125
        }
      ],
      "source": [
        "genrebasedrec('Action').head(15)"
      ]
    },
    {
      "cell_type": "markdown",
      "metadata": {
        "_cell_guid": "b6e1eb8b-6109-40ff-ab8a-37bd047c03ac",
        "_uuid": "0b0f95bdf966d06c2d7053535d46183b03a75cc1",
        "id": "8R60sekNW4vK"
      },
      "source": [
        "# Content Based Recommender\n",
        "\n",
        "Why we need the content based recommender?why simple recommendor system was not enough?\n",
        " \n",
        "Simple Recommender System  gives the same recommendation to everyone, regardless of the user's personal taste. If a person who loves romantic movies (and hates action) were to look at our Top 15 Chart, s/he wouldn't probably like most of the movies. If someone look at our charts by genre, he/she wouldn't still be getting the best recommendations.\n",
        "\n",
        "To personalise our recommendations more, we will do **Content Based Filtering.** and we will try to improve it further so that we have better recommendations.\n",
        "\n",
        "We will use the small dataset provided "
      ]
    },
    {
      "cell_type": "code",
      "execution_count": 126,
      "metadata": {
        "_cell_guid": "bd5f4440-f90d-46a4-8640-204541d99d40",
        "_uuid": "dc237e14c8346bdd51624d21b6b082399afd3062",
        "id": "8wg2KRa_W4vL"
      },
      "outputs": [],
      "source": [
        "new_df = pd.read_csv('/content/drive/MyDrive/movie recommender system/mrs new/links_small.csv')\n",
        "new_df = new_df[new_df['tmdbId'].notnull()]['tmdbId'].astype('int')"
      ]
    },
    {
      "cell_type": "code",
      "execution_count": 127,
      "metadata": {
        "id": "bmU2wu6rW4vL"
      },
      "outputs": [],
      "source": [
        "#deleting the rows with bad format data\n",
        "df = df.drop([19730, 29503, 35587])"
      ]
    },
    {
      "cell_type": "code",
      "execution_count": 128,
      "metadata": {
        "_cell_guid": "f68cb861-7c30-4b3d-b655-520379e61d70",
        "_uuid": "87eb84540a3c22a3f7bf54edeee5b491ef571416",
        "id": "kcjeh9OfW4vL"
      },
      "outputs": [],
      "source": [
        "#Check Notebook for how and why I got these indices.\n",
        "df['id'] = df['id'].astype('int')"
      ]
    },
    {
      "cell_type": "code",
      "execution_count": 129,
      "metadata": {
        "_cell_guid": "0b968a6a-6b0d-4df6-9e28-91c06e6c36c2",
        "_uuid": "3f2a7f55a030beeb06b713f854e4ca6a69b5ca13",
        "colab": {
          "base_uri": "https://localhost:8080/"
        },
        "id": "c7VDhod2W4vL",
        "outputId": "0c29eaf8-4109-4462-a74c-674bf85bb913"
      },
      "outputs": [
        {
          "output_type": "execute_result",
          "data": {
            "text/plain": [
              "(9099, 25)"
            ]
          },
          "metadata": {},
          "execution_count": 129
        }
      ],
      "source": [
        "small_data = df[df['id'].isin(new_df)]\n",
        "small_data.shape"
      ]
    },
    {
      "cell_type": "markdown",
      "metadata": {
        "_cell_guid": "1e73645a-0b0b-441f-93b4-ce92069e1852",
        "_uuid": "c41800b7a9d8b8d48ba1c22b8430929f54e9884e",
        "id": "1wPL8ovFW4vL"
      },
      "source": [
        "### Movie Description Based Recommender\n",
        "\n",
        "Let us first try to build a recommender using movie descriptions and taglines."
      ]
    },
    {
      "cell_type": "code",
      "execution_count": 130,
      "metadata": {
        "_cell_guid": "c880adf9-051b-40cd-8e95-cd8c4acabb17",
        "_uuid": "453bdc941ba5a1e86e17b0f106dc44040c0defdf",
        "id": "du-1Xvz1W4vM"
      },
      "outputs": [],
      "source": [
        "small_data['tagline'] = small_data['tagline'].fillna('')\n",
        "small_data['description'] = small_data['overview'] + small_data['tagline']\n",
        "small_data['description'] = small_data['description'].fillna('')"
      ]
    },
    {
      "cell_type": "code",
      "execution_count": 131,
      "metadata": {
        "_cell_guid": "6b385623-a978-43c4-b66a-813d5e9c6790",
        "_uuid": "f9d99726d9f2667fa6fc15ce5c5e31d36a970828",
        "id": "q45C6LP1W4vM"
      },
      "outputs": [],
      "source": [
        "tf = TfidfVectorizer(analyzer='word',ngram_range=(1, 2),min_df=0, stop_words='english')\n",
        "tfidf_matrix = tf.fit_transform(small_data['description'])"
      ]
    },
    {
      "cell_type": "code",
      "execution_count": 132,
      "metadata": {
        "_cell_guid": "5e18427c-2ef8-4a98-84e2-323a4af72ade",
        "_uuid": "6c21cc05d3c13ea637028f2e5836c719986e47c7",
        "colab": {
          "base_uri": "https://localhost:8080/"
        },
        "id": "saCwlFwPW4vM",
        "outputId": "ab0e121b-99c7-4024-d8e7-4f1858ea43fa"
      },
      "outputs": [
        {
          "output_type": "execute_result",
          "data": {
            "text/plain": [
              "(9099, 268124)"
            ]
          },
          "metadata": {},
          "execution_count": 132
        }
      ],
      "source": [
        "tfidf_matrix.shape"
      ]
    },
    {
      "cell_type": "markdown",
      "metadata": {
        "_cell_guid": "7d4db389-9f30-46e9-b8af-69fe9b40ada5",
        "_uuid": "1a98e05af67de3475999e1891d965ce9f73ce316",
        "id": "wRM6oXN-W4vN"
      },
      "source": [
        "#### Cosine Similarity\n",
        "\n",
        "We will be using the Cosine Similarity to calculate a numeric quantity that denotes the similarity between two movies. Mathematically, it is defined as follows:\n",
        "\n",
        "$cosine(x,y) = \\frac{x. y^\\intercal}{||x||.||y||} $\n",
        "\n",
        "Since we have used the TF-IDF Vectorizer, calculating the Dot Product will directly give us the Cosine Similarity Score. Therefore, we will use sklearn's **linear_kernel** instead of cosine_similarities since it is much faster."
      ]
    },
    {
      "cell_type": "code",
      "execution_count": 133,
      "metadata": {
        "_cell_guid": "8b27b34f-a585-42bf-b35f-1de4e9181fce",
        "_uuid": "e324c0e951287359f7810a3da85631ebc7725c53",
        "id": "dMK-Bv25W4vN"
      },
      "outputs": [],
      "source": [
        "similarity = linear_kernel(tfidf_matrix, tfidf_matrix)"
      ]
    },
    {
      "cell_type": "code",
      "execution_count": 134,
      "metadata": {
        "_cell_guid": "148a994f-3e7f-4350-9ea3-41eb95f106e8",
        "_uuid": "ebb6823a9dce997d965dc89049a06512cbfb17af",
        "colab": {
          "base_uri": "https://localhost:8080/"
        },
        "id": "DPEJL2PHW4vN",
        "outputId": "2407cafd-9db9-4333-c17e-94a0f73c68af"
      },
      "outputs": [
        {
          "output_type": "execute_result",
          "data": {
            "text/plain": [
              "array([[1.        , 0.00680476, 0.        , ..., 0.        , 0.00344913,\n",
              "        0.        ],\n",
              "       [0.00680476, 1.        , 0.01531062, ..., 0.00357057, 0.00762326,\n",
              "        0.        ],\n",
              "       [0.        , 0.01531062, 1.        , ..., 0.        , 0.00286535,\n",
              "        0.00472155],\n",
              "       ...,\n",
              "       [0.        , 0.00357057, 0.        , ..., 1.        , 0.07811616,\n",
              "        0.        ],\n",
              "       [0.00344913, 0.00762326, 0.00286535, ..., 0.07811616, 1.        ,\n",
              "        0.        ],\n",
              "       [0.        , 0.        , 0.00472155, ..., 0.        , 0.        ,\n",
              "        1.        ]])"
            ]
          },
          "metadata": {},
          "execution_count": 134
        }
      ],
      "source": [
        "similarity"
      ]
    },
    {
      "cell_type": "code",
      "execution_count": 135,
      "metadata": {
        "_cell_guid": "446d22fd-e7c1-42a6-851b-593f60175ce0",
        "_uuid": "ff016d61895e99fe7b0495c51b86917bdbe2712d",
        "id": "cMZEYM9ZW4vO"
      },
      "outputs": [],
      "source": [
        "small_data = small_data.reset_index()\n",
        "titles = small_data['title']\n",
        "indices = pd.Series(small_data.index, index=small_data['title'])"
      ]
    },
    {
      "cell_type": "code",
      "execution_count": 136,
      "metadata": {
        "_cell_guid": "d7352ae7-fbc3-4459-b257-76a44000ce6a",
        "_uuid": "62f49212a8b935ef63a3643e1bb6f629521f05b7",
        "id": "YQ4ZjRSUW4vO"
      },
      "outputs": [],
      "source": [
        "def get_recommendations(title):\n",
        "    idx = indices[title]\n",
        "    similarity_scores = list(enumerate(similarity[idx]))\n",
        "    similarity_scores = sorted(similarity_scores, key=lambda x: x[1], reverse=True)\n",
        "    similarity_scores = similarity_scores[1:31]\n",
        "    movie_indices = [i[0] for i in similarity_scores]\n",
        "    return titles.iloc[movie_indices]"
      ]
    },
    {
      "cell_type": "code",
      "execution_count": 137,
      "metadata": {
        "_cell_guid": "73bb1266-5797-47ce-b61f-fa9e0d7ce077",
        "_uuid": "46f418fd12b35e86a7a2026ef1975be822cadde3",
        "colab": {
          "base_uri": "https://localhost:8080/"
        },
        "id": "R2YyJrhmW4vO",
        "outputId": "df9afb4e-2364-4dc0-e143-50d469524107"
      },
      "outputs": [
        {
          "output_type": "execute_result",
          "data": {
            "text/plain": [
              "7391    Did You Hear About the Morgans?\n",
              "692                       The Godfather\n",
              "4665    Charlie's Angels: Full Throttle\n",
              "2642               The Whole Nine Yards\n",
              "8103                       Bachelorette\n",
              "1774                     My Blue Heaven\n",
              "647                              Eraser\n",
              "2738                        Cool as Ice\n",
              "3509                               Made\n",
              "4196                 Johnny Dangerously\n",
              "Name: title, dtype: object"
            ]
          },
          "metadata": {},
          "execution_count": 137
        }
      ],
      "source": [
        "get_recommendations('The Family').head(10)"
      ]
    },
    {
      "cell_type": "code",
      "execution_count": 138,
      "metadata": {
        "_cell_guid": "d074112e-79ea-4188-a1e0-addd9bed3c91",
        "_uuid": "f92e310b0225b4a1b8b46e8a87fe2f2b82c158ed",
        "colab": {
          "base_uri": "https://localhost:8080/"
        },
        "id": "kJSlFCfdW4vP",
        "outputId": "986be5e0-7974-416c-e6b2-c1e0767ba95f"
      },
      "outputs": [
        {
          "output_type": "execute_result",
          "data": {
            "text/plain": [
              "7931                      The Dark Knight Rises\n",
              "2579               Batman: Mask of the Phantasm\n",
              "6900                            The Dark Knight\n",
              "6144                              Batman Begins\n",
              "8165    Batman: The Dark Knight Returns, Part 1\n",
              "524                                      Batman\n",
              "1240                             Batman & Robin\n",
              "1113                             Batman Returns\n",
              "7565                 Batman: Under the Red Hood\n",
              "7901                           Batman: Year One\n",
              "Name: title, dtype: object"
            ]
          },
          "metadata": {},
          "execution_count": 138
        }
      ],
      "source": [
        "get_recommendations('Batman Forever').head(10)"
      ]
    },
    {
      "cell_type": "markdown",
      "metadata": {
        "_cell_guid": "a9fd334d-e890-4125-9d48-b79babd194d2",
        "_uuid": "f38218c5d4f07d6d9439adbab468c51430157103",
        "id": "kQ67JuKRW4vP"
      },
      "source": [
        "We see that for **Batman Forever**, this recommendation system is able to identify it as a Batman film and subsequently recommend other Batman films as its top recommendations. But unfortunately, that is all this system can do at the moment. This is not of much use to most people as it doesn't take into considerations very important features such as cast, crew, director and genre, which determine the rating and the popularity of a movie.\n",
        "\n",
        "Someone who liked **The Dark Knight** probably likes it more because of Nolan and would hate **Batman Forever** and every other substandard movie in the Batman Franchise."
      ]
    },
    {
      "cell_type": "markdown",
      "metadata": {
        "_cell_guid": "3a0dd8ba-a580-4c12-95eb-ca04e2191b35",
        "_uuid": "4089c7bcdf984e596e80d2fc6c2a74fe8c05a41f",
        "id": "vyxs8xddW4vQ"
      },
      "source": [
        "### Metadata Based Recommender\n",
        "\n",
        "we are going to use much more suggestive metadata than **Overview** and **Tagline**. metadata_based recommender will take **genre**, **keywords**, **cast** and **crew** into consideration.\n",
        "\n",
        "To build metadata based content recommender, we will need to merge our current dataset with the crew and the keyword datasets. Let us prepare this data as our first step."
      ]
    },
    {
      "cell_type": "code",
      "execution_count": 139,
      "metadata": {
        "_cell_guid": "85d2d5e0-165a-4ad5-860d-be1d1aa20c59",
        "_uuid": "aa399813ff512b0d7671e9bfcebf7f41ee139275",
        "id": "W1oSm2u4W4vQ"
      },
      "outputs": [],
      "source": [
        "credits = pd.read_csv('/content/drive/MyDrive/movie recommender system/mrs new/credits.csv')\n",
        "keywords = pd.read_csv('/content/drive/MyDrive/movie recommender system/mrs new/keywords.csv')"
      ]
    },
    {
      "cell_type": "code",
      "execution_count": 140,
      "metadata": {
        "_cell_guid": "5dc74705-17ee-41b8-932b-dc612c9426c5",
        "_uuid": "e82eb38c3ae53d500ad335943b4bd30a19f22d1a",
        "id": "Pkd7uqfgW4vQ"
      },
      "outputs": [],
      "source": [
        "keywords['id'] = keywords['id'].astype('int')\n",
        "credits['id'] = credits['id'].astype('int')\n",
        "df['id'] = df['id'].astype('int')"
      ]
    },
    {
      "cell_type": "code",
      "execution_count": 141,
      "metadata": {
        "_cell_guid": "a120fca0-7236-4b97-97f8-970363ed02ed",
        "_uuid": "2f9fc363f77649b3ee41132e0b45f366726a25cb",
        "colab": {
          "base_uri": "https://localhost:8080/"
        },
        "id": "WSd4f7eiW4vQ",
        "outputId": "ab7b603b-114a-4c23-8a5c-a3a3cbbf5cfa"
      },
      "outputs": [
        {
          "output_type": "execute_result",
          "data": {
            "text/plain": [
              "(45463, 25)"
            ]
          },
          "metadata": {},
          "execution_count": 141
        }
      ],
      "source": [
        "df.shape"
      ]
    },
    {
      "cell_type": "code",
      "execution_count": 142,
      "metadata": {
        "_cell_guid": "39fbbbcd-a0d9-4ad3-9187-e6e2bdb4358e",
        "_uuid": "4b1ebc18f31eb017c6f4f173ab270807c73c002a",
        "id": "bbvYniHbW4vR"
      },
      "outputs": [],
      "source": [
        "df = df.merge(credits, on='id')\n",
        "df = df.merge(keywords, on='id')"
      ]
    },
    {
      "cell_type": "code",
      "execution_count": 143,
      "metadata": {
        "_cell_guid": "ecdbd741-d8b1-4083-ba26-6c347915f16d",
        "_uuid": "a017f13dce80c88ce2f9fc0d63c374c93e827baa",
        "colab": {
          "base_uri": "https://localhost:8080/"
        },
        "id": "PCGlKOIVW4vR",
        "outputId": "0a38d87d-3bdd-468c-a5bf-43589dfbb544"
      },
      "outputs": [
        {
          "output_type": "execute_result",
          "data": {
            "text/plain": [
              "(9219, 28)"
            ]
          },
          "metadata": {},
          "execution_count": 143
        }
      ],
      "source": [
        "small_data1 = df[df['id'].isin(new_df)]\n",
        "small_data1.shape"
      ]
    },
    {
      "cell_type": "markdown",
      "metadata": {
        "_cell_guid": "5932e964-9f33-4cac-b90c-d6a116c8c463",
        "_uuid": "8e2c893fd842164c99b1be3f84f11fac3adab387",
        "id": "S7TB0Ib6W4vS"
      },
      "source": [
        "We now have our cast, crew, genres and credits, all in one dataframe.\n",
        "\n",
        "1. **Crew:** From the crew, we will only pick the director as our feature since the others don't contribute that much to the *feel* of the movie.\n",
        "2. **Cast:** Choosing Cast is a little more tricky. Lesser known actors and minor roles do not really affect people's opinion of a movie. Therefore, we must only select the major characters and their respective actors. Arbitrarily we will choose the top 3 actors that appear in the credits list. "
      ]
    },
    {
      "cell_type": "code",
      "execution_count": 144,
      "metadata": {
        "_cell_guid": "6c221b12-c5fd-4eb6-b61a-b7d3f395d2ab",
        "_uuid": "7ff7d25e2c175f2d71e02cf408ed113e10a148f1",
        "id": "aNsxjjEyW4vS"
      },
      "outputs": [],
      "source": [
        "small_data1['cast'] = small_data1['cast'].apply(literal_eval)\n",
        "small_data1['crew'] = small_data1['crew'].apply(literal_eval)\n",
        "small_data1['keywords'] = small_data1['keywords'].apply(literal_eval)\n",
        "small_data1['cast_size'] = small_data1['cast'].apply(lambda x: len(x))\n",
        "small_data1['crew_size'] = small_data1['crew'].apply(lambda x: len(x))"
      ]
    },
    {
      "cell_type": "code",
      "execution_count": 145,
      "metadata": {
        "_cell_guid": "0e19fe24-e206-4743-a96c-fb828707c74d",
        "_uuid": "4207baed79a12ab3314fc816076bbff032d3e186",
        "id": "WWj44miyW4vS"
      },
      "outputs": [],
      "source": [
        "def get_director(x):\n",
        "    for i in x:\n",
        "        if i['job'] == 'Director':\n",
        "            return i['name']\n",
        "    return np.nan"
      ]
    },
    {
      "cell_type": "code",
      "execution_count": 146,
      "metadata": {
        "_cell_guid": "d4468b32-a67e-4e31-bd56-1f4467884d1d",
        "_uuid": "64c84be00eb7eb7c0b9c4d9a1605e247c11ce2c6",
        "id": "CjflZ7vlW4vT"
      },
      "outputs": [],
      "source": [
        "small_data1['director'] = small_data1['crew'].apply(get_director)"
      ]
    },
    {
      "cell_type": "code",
      "execution_count": 147,
      "metadata": {
        "id": "Da6uoMnLW4vU"
      },
      "outputs": [],
      "source": [
        "small_data1['cast'] = small_data1['cast'].apply(lambda x: [i['name'] for i in x] if isinstance(x, list) else [])\n",
        "small_data1['cast'] = small_data1['cast'].apply(lambda x: x[:3] if len(x) >=3 else x)"
      ]
    },
    {
      "cell_type": "code",
      "execution_count": 148,
      "metadata": {
        "id": "xCo19GZLW4vU"
      },
      "outputs": [],
      "source": [
        "small_data1['keywords'] = small_data1['keywords'].apply(lambda x: [i['name'] for i in x] if isinstance(x, list) else [])"
      ]
    },
    {
      "cell_type": "markdown",
      "metadata": {
        "_cell_guid": "9f2cbd6e-3729-4316-bb4a-1bcd092f19ff",
        "_uuid": "ac9eb7bb4b74983b9c649013b7cdc6ebbb78af23",
        "id": "vatdCSExW4vU"
      },
      "source": [
        "We will be creating a metadata dump(combination) for every movie which consists of **genres, director, main actors and keywords.** I then use a **Count Vectorizer** to create our count matrix as we did in the Description Recommender. The remaining steps are similar to what we did earlier: we calculate the cosine similarities and return movies that are most similar.\n",
        "\n",
        "1. **Strip Spaces and Convert to Lowercase** from all  features. This way, engine will not confuse between **Sam Wilson** and **Sam Jones.** \n",
        "2. We will Mention Director 2 times to give it more weight relative to the entire cast."
      ]
    },
    {
      "cell_type": "code",
      "execution_count": 149,
      "metadata": {
        "_cell_guid": "6c5ffd70-ef6b-4fd0-be3d-b3c6a0d72df0",
        "_uuid": "01d86674d50b903fedc79750c4031ca88a739449",
        "id": "59Kx3mg-W4vV"
      },
      "outputs": [],
      "source": [
        "small_data1['cast'] = small_data1['cast'].apply(lambda x: [str.lower(i.replace(\" \", \"\")) for i in x])"
      ]
    },
    {
      "cell_type": "code",
      "execution_count": 150,
      "metadata": {
        "_cell_guid": "5c1377ba-aad0-4a3f-8bcb-063c9c93f087",
        "_uuid": "7e16f8b131ff73d33463fd070774a24a5ce474df",
        "id": "gJRgxlxHW4vV"
      },
      "outputs": [],
      "source": [
        "small_data1['director'] = small_data1['director'].astype('str').apply(lambda x: str.lower(x.replace(\" \", \"\")))\n",
        "small_data1['director'] = small_data1['director'].apply(lambda x: [x,x])"
      ]
    },
    {
      "cell_type": "markdown",
      "metadata": {
        "_cell_guid": "5ea1aabb-a885-4dfe-a85e-0e31fd76558f",
        "_uuid": "feac137ab3987ade6ae3b041c6cbec3bf4364e66",
        "id": "hScCZ82SW4vV"
      },
      "source": [
        "#### Keywords\n",
        "\n",
        "We will do a small amount of pre-processing of our keywords before putting them to any use. As a first step, we will calculate the frequenct counts of every keyword that appears in the dataset."
      ]
    },
    {
      "cell_type": "code",
      "execution_count": 151,
      "metadata": {
        "_cell_guid": "3dc8f545-4666-4cc0-8473-2870a69e7ff0",
        "_uuid": "5740d11531f7305f4edf13b0270dc014382a2b5c",
        "id": "lqjBznwgW4vV"
      },
      "outputs": [],
      "source": [
        "s = small_data1.apply(lambda x: pd.Series(x['keywords']),axis=1).stack().reset_index(level=1, drop=True)\n",
        "s.name = 'keyword'"
      ]
    },
    {
      "cell_type": "code",
      "execution_count": 152,
      "metadata": {
        "_cell_guid": "21e684ab-f6d3-4014-a05a-c28f995b4972",
        "_uuid": "1374a54bff3f7f0fdc872bfebff9f81d1dfcea69",
        "colab": {
          "base_uri": "https://localhost:8080/"
        },
        "id": "CxQXCbV8W4vW",
        "outputId": "da15e2e8-6fdb-41be-c111-d7755d057722"
      },
      "outputs": [
        {
          "output_type": "execute_result",
          "data": {
            "text/plain": [
              "independent film         610\n",
              "woman director           550\n",
              "murder                   399\n",
              "duringcreditsstinger     327\n",
              "based on novel           318\n",
              "                        ... \n",
              "summer cottage             1\n",
              "kitchen sink realism       1\n",
              "motion picture studio      1\n",
              "driving in the rain        1\n",
              "toyko                      1\n",
              "Name: keyword, Length: 12940, dtype: int64"
            ]
          },
          "metadata": {},
          "execution_count": 152
        }
      ],
      "source": [
        "s = s.value_counts()\n",
        "s"
      ]
    },
    {
      "cell_type": "markdown",
      "metadata": {
        "_cell_guid": "4277aa18-dc91-4836-9853-2c94624cc70d",
        "_uuid": "0ac999648a3085a98948ccf9ada187a9bb08eba3",
        "id": "uTHXmkQDW4vW"
      },
      "source": [
        "Keywords occur in frequencies ranging from 1 to 2170. We do not have any use for keywords that occur only once. Therefore, these can be safely removed. \n",
        "\n",
        "Finally, we will convert every word to its stem so that words such as *Dogs* and *Dog* are considered the same."
      ]
    },
    {
      "cell_type": "code",
      "execution_count": 153,
      "metadata": {
        "_cell_guid": "8cabd79b-dfab-46d8-922d-e204173d8103",
        "_uuid": "bf05fb571b1ee60335af20acb9cf5d7fee6254e8",
        "id": "OMn-w_fJW4vW"
      },
      "outputs": [],
      "source": [
        "s = s[s >= 2]"
      ]
    },
    {
      "cell_type": "code",
      "execution_count": 154,
      "metadata": {
        "_cell_guid": "2d10427d-9339-46fa-b699-060b27d6d25f",
        "_uuid": "1d2a07e4de352df9d3e2230d36e691d166a1675c",
        "colab": {
          "base_uri": "https://localhost:8080/",
          "height": 36
        },
        "id": "JfCr3n7cW4vW",
        "outputId": "15c871c5-c47e-4fc0-9cb6-e78bc3dde499"
      },
      "outputs": [
        {
          "output_type": "execute_result",
          "data": {
            "text/plain": [
              "'dog'"
            ],
            "application/vnd.google.colaboratory.intrinsic+json": {
              "type": "string"
            }
          },
          "metadata": {},
          "execution_count": 154
        }
      ],
      "source": [
        "stemmer = SnowballStemmer('english')\n",
        "stemmer.stem('dogs')"
      ]
    },
    {
      "cell_type": "code",
      "execution_count": 155,
      "metadata": {
        "_cell_guid": "5379c8d7-42a5-471a-84f8-bbd6cadf2e5c",
        "_uuid": "3bad77061d810e52b0d9fecfd26873c101167d00",
        "id": "08cEOGYWW4vW"
      },
      "outputs": [],
      "source": [
        "def filter_keywords(x):\n",
        "    words = []\n",
        "    for i in x:\n",
        "        if i in s:\n",
        "            words.append(i)\n",
        "    return words"
      ]
    },
    {
      "cell_type": "code",
      "execution_count": 156,
      "metadata": {
        "_cell_guid": "959063e5-841d-408a-a10e-1f1437756b7c",
        "_uuid": "2a939eb8846871c606da0f654a1a9a978270e99f",
        "id": "pq3vJcdDW4vW"
      },
      "outputs": [],
      "source": [
        "small_data1['keywords'] = small_data1['keywords'].apply(filter_keywords)\n",
        "small_data1['keywords'] = small_data1['keywords'].apply(lambda x: [stemmer.stem(i) for i in x])\n",
        "small_data1['keywords'] = small_data1['keywords'].apply(lambda x: [str.lower(i.replace(\" \", \"\")) for i in x])"
      ]
    },
    {
      "cell_type": "code",
      "execution_count": 157,
      "metadata": {
        "_cell_guid": "95c45262-2715-47b7-af65-1eb396c37d33",
        "_uuid": "6ff4da392e31cf628f91dd244cc4e76d63c40601",
        "id": "Wp7OQGmHW4vX"
      },
      "outputs": [],
      "source": [
        "small_data1['combination'] = small_data1['keywords'] + small_data1['cast'] + small_data1['director'] + small_data1['genres']\n",
        "small_data1['combination'] = small_data1['combination'].apply(lambda x: ' '.join(x))"
      ]
    },
    {
      "cell_type": "code",
      "execution_count": 158,
      "metadata": {
        "id": "CWZkNR-SW4vX"
      },
      "outputs": [],
      "source": [
        "import json\n",
        "import requests\n",
        "api_key = '68b8a37c9ca19b233cc057643bfbb9eb'\n",
        "def get_poster(x):\n",
        "    response = requests.get('https://api.themoviedb.org/3/movie/{}?api_key={}'.format(x,api_key))\n",
        "    if response.status_code==200:\n",
        "        data_json = response.json()\n",
        "        if data_json['poster_path']:\n",
        "            poster_str = 'https://image.tmdb.org/t/p/w500'+data_json['poster_path']\n",
        "            return poster_str\n",
        "        else:\n",
        "            return '/content/drive/MyDrive/movie recommender system/mrs new/static/default.jpg'\n",
        "    return '/content/drive/MyDrive/movie recommender system/mrs new/static/default.jpg'"
      ]
    },
    {
      "cell_type": "code",
      "execution_count": 159,
      "metadata": {
        "_cell_guid": "7f9aa1bc-351b-47a1-b909-0d87efe93adc",
        "_uuid": "c758030ce02bb4beed606e41a3e0a51b659768f0",
        "id": "P9BcKK5iW4vY"
      },
      "outputs": [],
      "source": [
        "count = CountVectorizer(analyzer='word',ngram_range=(1, 2),min_df=0, stop_words='english')\n",
        "count_matrix = count.fit_transform(small_data1['combination'])"
      ]
    },
    {
      "cell_type": "code",
      "execution_count": 160,
      "metadata": {
        "_cell_guid": "c462b8af-1eb8-499e-8e50-839811aebe9d",
        "_uuid": "defccf8a2c851672447b4f53ff1a8efddafccb33",
        "id": "itJ1TBW-W4vZ"
      },
      "outputs": [],
      "source": [
        "cosine_sim = cosine_similarity(count_matrix, count_matrix)"
      ]
    },
    {
      "cell_type": "code",
      "execution_count": 161,
      "metadata": {
        "_cell_guid": "d7ee34aa-da42-46bb-93e5-51e893286353",
        "_uuid": "ffa7edd804b3ea3065c6d428fbb613ae7cd203e3",
        "id": "ZOjUqqwKW4vZ"
      },
      "outputs": [],
      "source": [
        "small_data1 = small_data1.reset_index()\n",
        "titles = small_data1['title']\n",
        "indices = pd.Series(small_data1.index, index=small_data1['title'])"
      ]
    },
    {
      "cell_type": "code",
      "execution_count": 162,
      "metadata": {
        "id": "btITWZyeW4vZ"
      },
      "outputs": [],
      "source": [
        "small_data1['poster']=np.nan\n",
        "for i in range(2000):\n",
        "    small_data1['poster'][i]=get_poster(small_data1['id'][i])"
      ]
    },
    {
      "cell_type": "code",
      "execution_count": 163,
      "metadata": {
        "id": "USp5mBJKW4va"
      },
      "outputs": [],
      "source": [
        "for i in range(2000,4000):\n",
        "    small_data1['poster'][i]=get_poster(small_data1['id'][i])"
      ]
    },
    {
      "cell_type": "code",
      "execution_count": 164,
      "metadata": {
        "id": "USMhP07yW4va"
      },
      "outputs": [],
      "source": [
        "for i in range(4000,7000):\n",
        "    small_data1['poster'][i]=get_poster(small_data1['id'][i])"
      ]
    },
    {
      "cell_type": "code",
      "execution_count": 165,
      "metadata": {
        "id": "xuH3FxjQW4vb"
      },
      "outputs": [],
      "source": [
        "for i in range(7000,9219):\n",
        "    small_data1['poster'][i]=get_poster(small_data1['id'][i])"
      ]
    },
    {
      "cell_type": "code",
      "execution_count": 166,
      "metadata": {
        "id": "2V_RGifIW4vb"
      },
      "outputs": [],
      "source": [
        "def get_recommendations1(title):\n",
        "    idx = indices[title]\n",
        "    sim_scores = list(enumerate(cosine_sim[idx]))\n",
        "    try:\n",
        "        sim_scores = sorted(sim_scores, key=lambda x: x[1], reverse=True)\n",
        "    except:\n",
        "        sim_scores = sorted(sim_scores, key=lambda x: x[1][1], reverse=True)  \n",
        "    sim_scores = sim_scores[1:11]\n",
        "    movie_indices = [i[0] for i in sim_scores]\n",
        "    tit = small_data1['title'].iloc[movie_indices]\n",
        "    dat = small_data1['release_date'].iloc[movie_indices]\n",
        "    rating = small_data1['vote_average'].iloc[movie_indices]\n",
        "    moviedetails=small_data1['overview'].iloc[movie_indices]\n",
        "    movietypes=small_data1['keywords'].iloc[movie_indices]\n",
        "    movieid=small_data1['id'].iloc[movie_indices]\n",
        "    org_title=small_data1['original_title'].iloc[movie_indices]\n",
        "    poster=small_data1['poster'].iloc[movie_indices]\n",
        "    \n",
        "    \n",
        "    return_df = pd.DataFrame(columns=['Title','Year'])\n",
        "    return_df['Title'] = tit\n",
        "    return_df['Year'] = dat\n",
        "    return_df['Ratings'] = rating\n",
        "    return_df['Overview']=moviedetails\n",
        "    return_df['Types']=movietypes\n",
        "    return_df['ID']=movieid\n",
        "    return_df['org_title']=org_title\n",
        "    return_df['poster'] =poster\n",
        "    sorted_df = return_df.sort_values(by=['Ratings'], ascending=False)\n",
        "    return sorted_df"
      ]
    },
    {
      "cell_type": "code",
      "execution_count": 167,
      "metadata": {
        "colab": {
          "base_uri": "https://localhost:8080/",
          "height": 720
        },
        "id": "9DnnnZcCW4vb",
        "outputId": "9e8ce9cd-276d-4d78-ffcf-ab1d6426f359"
      },
      "outputs": [
        {
          "output_type": "execute_result",
          "data": {
            "text/plain": [
              "                                   Title        Year  Ratings  \\\n",
              "6623                        The Prestige  2006-10-19      8.0   \n",
              "8031               The Dark Knight Rises  2012-07-16      7.6   \n",
              "7659          Batman: Under the Red Hood  2010-07-27      7.6   \n",
              "6218                       Batman Begins  2005-06-10      7.5   \n",
              "2085                           Following  1998-09-12      7.2   \n",
              "5943                            Thursday  1998-09-25      7.0   \n",
              "1134                      Batman Returns  1992-06-19      6.6   \n",
              "8927             Kidnapping Mr. Heineken  2015-03-12      5.8   \n",
              "9024  Batman v Superman: Dawn of Justice  2016-03-23      5.7   \n",
              "1260                      Batman & Robin  1997-06-20      4.2   \n",
              "\n",
              "                                               Overview  \\\n",
              "6623  A mysterious story of two magicians whose inte...   \n",
              "8031  Following the death of District Attorney Harve...   \n",
              "7659  Batman faces his ultimate challenge as the mys...   \n",
              "6218  Driven by tragedy, billionaire Bruce Wayne ded...   \n",
              "2085  A struggling, unemployed young writer takes to...   \n",
              "5943  Casey has given up drug dealing for a suburban...   \n",
              "1134  Having defeated the Joker, Batman now faces th...   \n",
              "8927  The true story of the kidnapping of Freddy Hei...   \n",
              "9024  Fearing the actions of a god-like Super Hero l...   \n",
              "1260  Along with crime-fighting partner Robin and ne...   \n",
              "\n",
              "                                                  Types      ID  \\\n",
              "6623  [competit, secret, obsess, magic, dyinganddeat...    1124   \n",
              "8031  [dccomic, crimefight, terrorist, secretident, ...   49026   \n",
              "7659  [martialart, dccomic, vigilant, joker, superhe...   40662   \n",
              "6218  [himalaya, martialart, dccomic, crimefight, se...     272   \n",
              "2085  [londonengland, robberi, burglar, prosecut, th...   11660   \n",
              "5943                              [drugdeal, marijuana]    9812   \n",
              "1134  [holiday, corrupt, doublelif, dccomic, crimefi...     364   \n",
              "8927                                                 []  228968   \n",
              "9024  [dccomic, vigilant, superhero, basedoncom, rev...  209112   \n",
              "1260  [doublelif, dccomic, dualident, crimefight, fi...     415   \n",
              "\n",
              "                               org_title  \\\n",
              "6623                        The Prestige   \n",
              "8031               The Dark Knight Rises   \n",
              "7659          Batman: Under the Red Hood   \n",
              "6218                       Batman Begins   \n",
              "2085                           Following   \n",
              "5943                            Thursday   \n",
              "1134                      Batman Returns   \n",
              "8927             Kidnapping Mr. Heineken   \n",
              "9024  Batman v Superman: Dawn of Justice   \n",
              "1260                      Batman & Robin   \n",
              "\n",
              "                                                 poster  \n",
              "6623  https://image.tmdb.org/t/p/w500/bdN3gXuIZYaJP7...  \n",
              "8031  https://image.tmdb.org/t/p/w500/85cWkCVftiVs0B...  \n",
              "7659  https://image.tmdb.org/t/p/w500/dEujs48u3n4cmh...  \n",
              "6218  https://image.tmdb.org/t/p/w500/8RW2runSEc34Iw...  \n",
              "2085  https://image.tmdb.org/t/p/w500/lK9LE5D67HNyPl...  \n",
              "5943  https://image.tmdb.org/t/p/w500/9UnvhGebv558bj...  \n",
              "1134  https://image.tmdb.org/t/p/w500/jKBjeXM7iBBV9U...  \n",
              "8927  https://image.tmdb.org/t/p/w500/6JAb9jQa4sONku...  \n",
              "9024  https://image.tmdb.org/t/p/w500/5UsK3grJvtQrtz...  \n",
              "1260  https://image.tmdb.org/t/p/w500/pc6Y42r8AGAT8i...  "
            ],
            "text/html": [
              "\n",
              "  <div id=\"df-0e0c9e75-03ac-4f7b-8d54-b83758bc61b3\">\n",
              "    <div class=\"colab-df-container\">\n",
              "      <div>\n",
              "<style scoped>\n",
              "    .dataframe tbody tr th:only-of-type {\n",
              "        vertical-align: middle;\n",
              "    }\n",
              "\n",
              "    .dataframe tbody tr th {\n",
              "        vertical-align: top;\n",
              "    }\n",
              "\n",
              "    .dataframe thead th {\n",
              "        text-align: right;\n",
              "    }\n",
              "</style>\n",
              "<table border=\"1\" class=\"dataframe\">\n",
              "  <thead>\n",
              "    <tr style=\"text-align: right;\">\n",
              "      <th></th>\n",
              "      <th>Title</th>\n",
              "      <th>Year</th>\n",
              "      <th>Ratings</th>\n",
              "      <th>Overview</th>\n",
              "      <th>Types</th>\n",
              "      <th>ID</th>\n",
              "      <th>org_title</th>\n",
              "      <th>poster</th>\n",
              "    </tr>\n",
              "  </thead>\n",
              "  <tbody>\n",
              "    <tr>\n",
              "      <th>6623</th>\n",
              "      <td>The Prestige</td>\n",
              "      <td>2006-10-19</td>\n",
              "      <td>8.0</td>\n",
              "      <td>A mysterious story of two magicians whose inte...</td>\n",
              "      <td>[competit, secret, obsess, magic, dyinganddeat...</td>\n",
              "      <td>1124</td>\n",
              "      <td>The Prestige</td>\n",
              "      <td>https://image.tmdb.org/t/p/w500/bdN3gXuIZYaJP7...</td>\n",
              "    </tr>\n",
              "    <tr>\n",
              "      <th>8031</th>\n",
              "      <td>The Dark Knight Rises</td>\n",
              "      <td>2012-07-16</td>\n",
              "      <td>7.6</td>\n",
              "      <td>Following the death of District Attorney Harve...</td>\n",
              "      <td>[dccomic, crimefight, terrorist, secretident, ...</td>\n",
              "      <td>49026</td>\n",
              "      <td>The Dark Knight Rises</td>\n",
              "      <td>https://image.tmdb.org/t/p/w500/85cWkCVftiVs0B...</td>\n",
              "    </tr>\n",
              "    <tr>\n",
              "      <th>7659</th>\n",
              "      <td>Batman: Under the Red Hood</td>\n",
              "      <td>2010-07-27</td>\n",
              "      <td>7.6</td>\n",
              "      <td>Batman faces his ultimate challenge as the mys...</td>\n",
              "      <td>[martialart, dccomic, vigilant, joker, superhe...</td>\n",
              "      <td>40662</td>\n",
              "      <td>Batman: Under the Red Hood</td>\n",
              "      <td>https://image.tmdb.org/t/p/w500/dEujs48u3n4cmh...</td>\n",
              "    </tr>\n",
              "    <tr>\n",
              "      <th>6218</th>\n",
              "      <td>Batman Begins</td>\n",
              "      <td>2005-06-10</td>\n",
              "      <td>7.5</td>\n",
              "      <td>Driven by tragedy, billionaire Bruce Wayne ded...</td>\n",
              "      <td>[himalaya, martialart, dccomic, crimefight, se...</td>\n",
              "      <td>272</td>\n",
              "      <td>Batman Begins</td>\n",
              "      <td>https://image.tmdb.org/t/p/w500/8RW2runSEc34Iw...</td>\n",
              "    </tr>\n",
              "    <tr>\n",
              "      <th>2085</th>\n",
              "      <td>Following</td>\n",
              "      <td>1998-09-12</td>\n",
              "      <td>7.2</td>\n",
              "      <td>A struggling, unemployed young writer takes to...</td>\n",
              "      <td>[londonengland, robberi, burglar, prosecut, th...</td>\n",
              "      <td>11660</td>\n",
              "      <td>Following</td>\n",
              "      <td>https://image.tmdb.org/t/p/w500/lK9LE5D67HNyPl...</td>\n",
              "    </tr>\n",
              "    <tr>\n",
              "      <th>5943</th>\n",
              "      <td>Thursday</td>\n",
              "      <td>1998-09-25</td>\n",
              "      <td>7.0</td>\n",
              "      <td>Casey has given up drug dealing for a suburban...</td>\n",
              "      <td>[drugdeal, marijuana]</td>\n",
              "      <td>9812</td>\n",
              "      <td>Thursday</td>\n",
              "      <td>https://image.tmdb.org/t/p/w500/9UnvhGebv558bj...</td>\n",
              "    </tr>\n",
              "    <tr>\n",
              "      <th>1134</th>\n",
              "      <td>Batman Returns</td>\n",
              "      <td>1992-06-19</td>\n",
              "      <td>6.6</td>\n",
              "      <td>Having defeated the Joker, Batman now faces th...</td>\n",
              "      <td>[holiday, corrupt, doublelif, dccomic, crimefi...</td>\n",
              "      <td>364</td>\n",
              "      <td>Batman Returns</td>\n",
              "      <td>https://image.tmdb.org/t/p/w500/jKBjeXM7iBBV9U...</td>\n",
              "    </tr>\n",
              "    <tr>\n",
              "      <th>8927</th>\n",
              "      <td>Kidnapping Mr. Heineken</td>\n",
              "      <td>2015-03-12</td>\n",
              "      <td>5.8</td>\n",
              "      <td>The true story of the kidnapping of Freddy Hei...</td>\n",
              "      <td>[]</td>\n",
              "      <td>228968</td>\n",
              "      <td>Kidnapping Mr. Heineken</td>\n",
              "      <td>https://image.tmdb.org/t/p/w500/6JAb9jQa4sONku...</td>\n",
              "    </tr>\n",
              "    <tr>\n",
              "      <th>9024</th>\n",
              "      <td>Batman v Superman: Dawn of Justice</td>\n",
              "      <td>2016-03-23</td>\n",
              "      <td>5.7</td>\n",
              "      <td>Fearing the actions of a god-like Super Hero l...</td>\n",
              "      <td>[dccomic, vigilant, superhero, basedoncom, rev...</td>\n",
              "      <td>209112</td>\n",
              "      <td>Batman v Superman: Dawn of Justice</td>\n",
              "      <td>https://image.tmdb.org/t/p/w500/5UsK3grJvtQrtz...</td>\n",
              "    </tr>\n",
              "    <tr>\n",
              "      <th>1260</th>\n",
              "      <td>Batman &amp; Robin</td>\n",
              "      <td>1997-06-20</td>\n",
              "      <td>4.2</td>\n",
              "      <td>Along with crime-fighting partner Robin and ne...</td>\n",
              "      <td>[doublelif, dccomic, dualident, crimefight, fi...</td>\n",
              "      <td>415</td>\n",
              "      <td>Batman &amp; Robin</td>\n",
              "      <td>https://image.tmdb.org/t/p/w500/pc6Y42r8AGAT8i...</td>\n",
              "    </tr>\n",
              "  </tbody>\n",
              "</table>\n",
              "</div>\n",
              "      <button class=\"colab-df-convert\" onclick=\"convertToInteractive('df-0e0c9e75-03ac-4f7b-8d54-b83758bc61b3')\"\n",
              "              title=\"Convert this dataframe to an interactive table.\"\n",
              "              style=\"display:none;\">\n",
              "        \n",
              "  <svg xmlns=\"http://www.w3.org/2000/svg\" height=\"24px\"viewBox=\"0 0 24 24\"\n",
              "       width=\"24px\">\n",
              "    <path d=\"M0 0h24v24H0V0z\" fill=\"none\"/>\n",
              "    <path d=\"M18.56 5.44l.94 2.06.94-2.06 2.06-.94-2.06-.94-.94-2.06-.94 2.06-2.06.94zm-11 1L8.5 8.5l.94-2.06 2.06-.94-2.06-.94L8.5 2.5l-.94 2.06-2.06.94zm10 10l.94 2.06.94-2.06 2.06-.94-2.06-.94-.94-2.06-.94 2.06-2.06.94z\"/><path d=\"M17.41 7.96l-1.37-1.37c-.4-.4-.92-.59-1.43-.59-.52 0-1.04.2-1.43.59L10.3 9.45l-7.72 7.72c-.78.78-.78 2.05 0 2.83L4 21.41c.39.39.9.59 1.41.59.51 0 1.02-.2 1.41-.59l7.78-7.78 2.81-2.81c.8-.78.8-2.07 0-2.86zM5.41 20L4 18.59l7.72-7.72 1.47 1.35L5.41 20z\"/>\n",
              "  </svg>\n",
              "      </button>\n",
              "      \n",
              "  <style>\n",
              "    .colab-df-container {\n",
              "      display:flex;\n",
              "      flex-wrap:wrap;\n",
              "      gap: 12px;\n",
              "    }\n",
              "\n",
              "    .colab-df-convert {\n",
              "      background-color: #E8F0FE;\n",
              "      border: none;\n",
              "      border-radius: 50%;\n",
              "      cursor: pointer;\n",
              "      display: none;\n",
              "      fill: #1967D2;\n",
              "      height: 32px;\n",
              "      padding: 0 0 0 0;\n",
              "      width: 32px;\n",
              "    }\n",
              "\n",
              "    .colab-df-convert:hover {\n",
              "      background-color: #E2EBFA;\n",
              "      box-shadow: 0px 1px 2px rgba(60, 64, 67, 0.3), 0px 1px 3px 1px rgba(60, 64, 67, 0.15);\n",
              "      fill: #174EA6;\n",
              "    }\n",
              "\n",
              "    [theme=dark] .colab-df-convert {\n",
              "      background-color: #3B4455;\n",
              "      fill: #D2E3FC;\n",
              "    }\n",
              "\n",
              "    [theme=dark] .colab-df-convert:hover {\n",
              "      background-color: #434B5C;\n",
              "      box-shadow: 0px 1px 3px 1px rgba(0, 0, 0, 0.15);\n",
              "      filter: drop-shadow(0px 1px 2px rgba(0, 0, 0, 0.3));\n",
              "      fill: #FFFFFF;\n",
              "    }\n",
              "  </style>\n",
              "\n",
              "      <script>\n",
              "        const buttonEl =\n",
              "          document.querySelector('#df-0e0c9e75-03ac-4f7b-8d54-b83758bc61b3 button.colab-df-convert');\n",
              "        buttonEl.style.display =\n",
              "          google.colab.kernel.accessAllowed ? 'block' : 'none';\n",
              "\n",
              "        async function convertToInteractive(key) {\n",
              "          const element = document.querySelector('#df-0e0c9e75-03ac-4f7b-8d54-b83758bc61b3');\n",
              "          const dataTable =\n",
              "            await google.colab.kernel.invokeFunction('convertToInteractive',\n",
              "                                                     [key], {});\n",
              "          if (!dataTable) return;\n",
              "\n",
              "          const docLinkHtml = 'Like what you see? Visit the ' +\n",
              "            '<a target=\"_blank\" href=https://colab.research.google.com/notebooks/data_table.ipynb>data table notebook</a>'\n",
              "            + ' to learn more about interactive tables.';\n",
              "          element.innerHTML = '';\n",
              "          dataTable['output_type'] = 'display_data';\n",
              "          await google.colab.output.renderOutput(dataTable, element);\n",
              "          const docLink = document.createElement('div');\n",
              "          docLink.innerHTML = docLinkHtml;\n",
              "          element.appendChild(docLink);\n",
              "        }\n",
              "      </script>\n",
              "    </div>\n",
              "  </div>\n",
              "  "
            ]
          },
          "metadata": {},
          "execution_count": 167
        }
      ],
      "source": [
        "get_recommendations1(\"The Dark Knight\")"
      ]
    },
    {
      "cell_type": "code",
      "execution_count": 168,
      "metadata": {
        "id": "4odjMdY2W4vc"
      },
      "outputs": [],
      "source": [
        "small_data1.to_csv('final_movies_data.csv',index=False)"
      ]
    },
    {
      "cell_type": "markdown",
      "metadata": {
        "id": "z3TwcU_mW4vc"
      },
      "source": [
        "#  We find this recommender system quite good and will be using to to recommend movies on our web application."
      ]
    }
  ],
  "metadata": {
    "kernelspec": {
      "display_name": "Python 3 (ipykernel)",
      "language": "python",
      "name": "python3"
    },
    "language_info": {
      "codemirror_mode": {
        "name": "ipython",
        "version": 3
      },
      "file_extension": ".py",
      "mimetype": "text/x-python",
      "name": "python",
      "nbconvert_exporter": "python",
      "pygments_lexer": "ipython3",
      "version": "3.9.12"
    },
    "colab": {
      "name": "movie-recommender-systems.ipynb",
      "provenance": [],
      "include_colab_link": true
    }
  },
  "nbformat": 4,
  "nbformat_minor": 0
}